{
 "cells": [
  {
   "cell_type": "code",
   "execution_count": 1,
   "id": "6c47afea",
   "metadata": {},
   "outputs": [],
   "source": [
    "import numpy as np\n",
    "import pandas as pd\n",
    "import seaborn as sns\n",
    "import matplotlib.pyplot as plt\n",
    "import warnings\n",
    "warnings.filterwarnings('ignore')"
   ]
  },
  {
   "cell_type": "code",
   "execution_count": 2,
   "id": "1554b1b0",
   "metadata": {},
   "outputs": [],
   "source": [
    "df1 =pd.read_csv(\"Copy of events.csv\")"
   ]
  },
  {
   "cell_type": "code",
   "execution_count": 3,
   "id": "9a9de3dc",
   "metadata": {},
   "outputs": [
    {
     "data": {
      "text/plain": [
       "(3252950, 5)"
      ]
     },
     "execution_count": 3,
     "metadata": {},
     "output_type": "execute_result"
    }
   ],
   "source": [
    "df1.shape"
   ]
  },
  {
   "cell_type": "code",
   "execution_count": 4,
   "id": "808fd773",
   "metadata": {},
   "outputs": [],
   "source": [
    "df2 =pd.read_csv(\"Copy of gender_age.csv\")"
   ]
  },
  {
   "cell_type": "code",
   "execution_count": 5,
   "id": "abe8a0e0",
   "metadata": {},
   "outputs": [
    {
     "data": {
      "text/plain": [
       "(74645, 4)"
      ]
     },
     "execution_count": 5,
     "metadata": {},
     "output_type": "execute_result"
    }
   ],
   "source": [
    "df2.shape"
   ]
  },
  {
   "cell_type": "code",
   "execution_count": 6,
   "id": "f43144ca",
   "metadata": {},
   "outputs": [],
   "source": [
    "df3 =pd.read_csv(\"Copy of phone_device.csv\")"
   ]
  },
  {
   "cell_type": "code",
   "execution_count": 7,
   "id": "83c12a21",
   "metadata": {},
   "outputs": [
    {
     "data": {
      "text/plain": [
       "(187245, 3)"
      ]
     },
     "execution_count": 7,
     "metadata": {},
     "output_type": "execute_result"
    }
   ],
   "source": [
    "df3.shape"
   ]
  },
  {
   "cell_type": "code",
   "execution_count": 8,
   "id": "e70e9437",
   "metadata": {},
   "outputs": [],
   "source": [
    "df4=pd.merge(df1,df2,how=\"inner\")"
   ]
  },
  {
   "cell_type": "code",
   "execution_count": 9,
   "id": "c7535507",
   "metadata": {},
   "outputs": [],
   "source": [
    "df=pd.merge(df4,df3,how=\"inner\")"
   ]
  },
  {
   "cell_type": "code",
   "execution_count": 10,
   "id": "05981d75",
   "metadata": {},
   "outputs": [
    {
     "data": {
      "text/plain": [
       "(1220474, 10)"
      ]
     },
     "execution_count": 10,
     "metadata": {},
     "output_type": "execute_result"
    }
   ],
   "source": [
    "df.shape"
   ]
  },
  {
   "cell_type": "code",
   "execution_count": 11,
   "id": "1e076d4d",
   "metadata": {},
   "outputs": [
    {
     "data": {
      "text/plain": [
       "event_id        0\n",
       "device_id       0\n",
       "timestamp       0\n",
       "longitude       0\n",
       "latitude        0\n",
       "gender          0\n",
       "age             0\n",
       "group           0\n",
       "phone_brand     0\n",
       "device_model    0\n",
       "dtype: int64"
      ]
     },
     "execution_count": 11,
     "metadata": {},
     "output_type": "execute_result"
    }
   ],
   "source": [
    "df.isnull().sum()"
   ]
  },
  {
   "cell_type": "code",
   "execution_count": 12,
   "id": "b3474593",
   "metadata": {},
   "outputs": [
    {
     "data": {
      "text/plain": [
       "4858"
      ]
     },
     "execution_count": 12,
     "metadata": {},
     "output_type": "execute_result"
    }
   ],
   "source": [
    "len(df[df.duplicated()])"
   ]
  },
  {
   "cell_type": "code",
   "execution_count": 13,
   "id": "93d4867f",
   "metadata": {},
   "outputs": [],
   "source": [
    "df.drop_duplicates(keep='first',inplace=True)"
   ]
  },
  {
   "cell_type": "code",
   "execution_count": 14,
   "id": "621f5077",
   "metadata": {},
   "outputs": [
    {
     "data": {
      "text/plain": [
       "(1215616, 10)"
      ]
     },
     "execution_count": 14,
     "metadata": {},
     "output_type": "execute_result"
    }
   ],
   "source": [
    "df.shape"
   ]
  },
  {
   "cell_type": "code",
   "execution_count": 15,
   "id": "0310e7b4",
   "metadata": {},
   "outputs": [
    {
     "data": {
      "text/plain": [
       "0"
      ]
     },
     "execution_count": 15,
     "metadata": {},
     "output_type": "execute_result"
    }
   ],
   "source": [
    "len(df[df.duplicated()])"
   ]
  },
  {
   "cell_type": "code",
   "execution_count": 16,
   "id": "47ed238b",
   "metadata": {},
   "outputs": [
    {
     "data": {
      "text/plain": [
       "Index(['event_id', 'device_id', 'timestamp', 'longitude', 'latitude', 'gender',\n",
       "       'age', 'group', 'phone_brand', 'device_model'],\n",
       "      dtype='object')"
      ]
     },
     "execution_count": 16,
     "metadata": {},
     "output_type": "execute_result"
    }
   ],
   "source": [
    "df.columns"
   ]
  },
  {
   "cell_type": "code",
   "execution_count": 17,
   "id": "27eb3b17",
   "metadata": {},
   "outputs": [
    {
     "data": {
      "text/html": [
       "<div>\n",
       "<style scoped>\n",
       "    .dataframe tbody tr th:only-of-type {\n",
       "        vertical-align: middle;\n",
       "    }\n",
       "\n",
       "    .dataframe tbody tr th {\n",
       "        vertical-align: top;\n",
       "    }\n",
       "\n",
       "    .dataframe thead th {\n",
       "        text-align: right;\n",
       "    }\n",
       "</style>\n",
       "<table border=\"1\" class=\"dataframe\">\n",
       "  <thead>\n",
       "    <tr style=\"text-align: right;\">\n",
       "      <th></th>\n",
       "      <th>event_id</th>\n",
       "      <th>device_id</th>\n",
       "      <th>timestamp</th>\n",
       "      <th>longitude</th>\n",
       "      <th>latitude</th>\n",
       "      <th>gender</th>\n",
       "      <th>age</th>\n",
       "      <th>group</th>\n",
       "      <th>phone_brand</th>\n",
       "      <th>device_model</th>\n",
       "    </tr>\n",
       "  </thead>\n",
       "  <tbody>\n",
       "    <tr>\n",
       "      <th>0</th>\n",
       "      <td>1</td>\n",
       "      <td>29182687948017175</td>\n",
       "      <td>2016-05-01 00:55:25</td>\n",
       "      <td>121.38</td>\n",
       "      <td>31.24</td>\n",
       "      <td>M</td>\n",
       "      <td>46</td>\n",
       "      <td>M39+</td>\n",
       "      <td>小米</td>\n",
       "      <td>红米note</td>\n",
       "    </tr>\n",
       "    <tr>\n",
       "      <th>1</th>\n",
       "      <td>7104</td>\n",
       "      <td>29182687948017175</td>\n",
       "      <td>2016-05-02 09:37:02</td>\n",
       "      <td>121.38</td>\n",
       "      <td>31.24</td>\n",
       "      <td>M</td>\n",
       "      <td>46</td>\n",
       "      <td>M39+</td>\n",
       "      <td>小米</td>\n",
       "      <td>红米note</td>\n",
       "    </tr>\n",
       "    <tr>\n",
       "      <th>2</th>\n",
       "      <td>29661</td>\n",
       "      <td>29182687948017175</td>\n",
       "      <td>2016-05-04 00:56:04</td>\n",
       "      <td>121.39</td>\n",
       "      <td>31.23</td>\n",
       "      <td>M</td>\n",
       "      <td>46</td>\n",
       "      <td>M39+</td>\n",
       "      <td>小米</td>\n",
       "      <td>红米note</td>\n",
       "    </tr>\n",
       "  </tbody>\n",
       "</table>\n",
       "</div>"
      ],
      "text/plain": [
       "   event_id          device_id            timestamp  longitude  latitude  \\\n",
       "0         1  29182687948017175  2016-05-01 00:55:25     121.38     31.24   \n",
       "1      7104  29182687948017175  2016-05-02 09:37:02     121.38     31.24   \n",
       "2     29661  29182687948017175  2016-05-04 00:56:04     121.39     31.23   \n",
       "\n",
       "  gender  age group phone_brand device_model  \n",
       "0      M   46  M39+          小米       红米note  \n",
       "1      M   46  M39+          小米       红米note  \n",
       "2      M   46  M39+          小米       红米note  "
      ]
     },
     "execution_count": 17,
     "metadata": {},
     "output_type": "execute_result"
    }
   ],
   "source": [
    "df.head(3)"
   ]
  },
  {
   "cell_type": "code",
   "execution_count": 18,
   "id": "e95da7d9",
   "metadata": {},
   "outputs": [
    {
     "name": "stdout",
     "output_type": "stream",
     "text": [
      "<class 'pandas.core.frame.DataFrame'>\n",
      "Int64Index: 1215616 entries, 0 to 1220473\n",
      "Data columns (total 10 columns):\n",
      " #   Column        Non-Null Count    Dtype  \n",
      "---  ------        --------------    -----  \n",
      " 0   event_id      1215616 non-null  int64  \n",
      " 1   device_id     1215616 non-null  int64  \n",
      " 2   timestamp     1215616 non-null  object \n",
      " 3   longitude     1215616 non-null  float64\n",
      " 4   latitude      1215616 non-null  float64\n",
      " 5   gender        1215616 non-null  object \n",
      " 6   age           1215616 non-null  int64  \n",
      " 7   group         1215616 non-null  object \n",
      " 8   phone_brand   1215616 non-null  object \n",
      " 9   device_model  1215616 non-null  object \n",
      "dtypes: float64(2), int64(3), object(5)\n",
      "memory usage: 102.0+ MB\n"
     ]
    }
   ],
   "source": [
    "df.info()"
   ]
  },
  {
   "cell_type": "code",
   "execution_count": 19,
   "id": "7bf958cc",
   "metadata": {},
   "outputs": [
    {
     "data": {
      "text/html": [
       "<div>\n",
       "<style scoped>\n",
       "    .dataframe tbody tr th:only-of-type {\n",
       "        vertical-align: middle;\n",
       "    }\n",
       "\n",
       "    .dataframe tbody tr th {\n",
       "        vertical-align: top;\n",
       "    }\n",
       "\n",
       "    .dataframe thead th {\n",
       "        text-align: right;\n",
       "    }\n",
       "</style>\n",
       "<table border=\"1\" class=\"dataframe\">\n",
       "  <thead>\n",
       "    <tr style=\"text-align: right;\">\n",
       "      <th></th>\n",
       "      <th>event_id</th>\n",
       "      <th>device_id</th>\n",
       "      <th>timestamp</th>\n",
       "      <th>longitude</th>\n",
       "      <th>latitude</th>\n",
       "      <th>gender</th>\n",
       "      <th>age</th>\n",
       "      <th>group</th>\n",
       "      <th>phone_brand</th>\n",
       "      <th>device_model</th>\n",
       "    </tr>\n",
       "  </thead>\n",
       "  <tbody>\n",
       "    <tr>\n",
       "      <th>count</th>\n",
       "      <td>1.215616e+06</td>\n",
       "      <td>1.215616e+06</td>\n",
       "      <td>1215616</td>\n",
       "      <td>1.215616e+06</td>\n",
       "      <td>1.215616e+06</td>\n",
       "      <td>1215616</td>\n",
       "      <td>1.215616e+06</td>\n",
       "      <td>1215616</td>\n",
       "      <td>1215616</td>\n",
       "      <td>1215616</td>\n",
       "    </tr>\n",
       "    <tr>\n",
       "      <th>unique</th>\n",
       "      <td>NaN</td>\n",
       "      <td>NaN</td>\n",
       "      <td>497663</td>\n",
       "      <td>NaN</td>\n",
       "      <td>NaN</td>\n",
       "      <td>2</td>\n",
       "      <td>NaN</td>\n",
       "      <td>12</td>\n",
       "      <td>89</td>\n",
       "      <td>926</td>\n",
       "    </tr>\n",
       "    <tr>\n",
       "      <th>top</th>\n",
       "      <td>NaN</td>\n",
       "      <td>NaN</td>\n",
       "      <td>2016-05-03 10:00:03</td>\n",
       "      <td>NaN</td>\n",
       "      <td>NaN</td>\n",
       "      <td>M</td>\n",
       "      <td>NaN</td>\n",
       "      <td>M39+</td>\n",
       "      <td>华为</td>\n",
       "      <td>荣耀6</td>\n",
       "    </tr>\n",
       "    <tr>\n",
       "      <th>freq</th>\n",
       "      <td>NaN</td>\n",
       "      <td>NaN</td>\n",
       "      <td>18</td>\n",
       "      <td>NaN</td>\n",
       "      <td>NaN</td>\n",
       "      <td>864324</td>\n",
       "      <td>NaN</td>\n",
       "      <td>211020</td>\n",
       "      <td>375959</td>\n",
       "      <td>54987</td>\n",
       "    </tr>\n",
       "    <tr>\n",
       "      <th>mean</th>\n",
       "      <td>1.626674e+06</td>\n",
       "      <td>-3.106798e+16</td>\n",
       "      <td>NaN</td>\n",
       "      <td>7.839264e+01</td>\n",
       "      <td>2.182718e+01</td>\n",
       "      <td>NaN</td>\n",
       "      <td>3.350004e+01</td>\n",
       "      <td>NaN</td>\n",
       "      <td>NaN</td>\n",
       "      <td>NaN</td>\n",
       "    </tr>\n",
       "    <tr>\n",
       "      <th>std</th>\n",
       "      <td>9.396635e+05</td>\n",
       "      <td>5.322372e+18</td>\n",
       "      <td>NaN</td>\n",
       "      <td>5.381290e+01</td>\n",
       "      <td>1.564838e+01</td>\n",
       "      <td>NaN</td>\n",
       "      <td>9.745614e+00</td>\n",
       "      <td>NaN</td>\n",
       "      <td>NaN</td>\n",
       "      <td>NaN</td>\n",
       "    </tr>\n",
       "    <tr>\n",
       "      <th>min</th>\n",
       "      <td>1.000000e+00</td>\n",
       "      <td>-9.222957e+18</td>\n",
       "      <td>NaN</td>\n",
       "      <td>-1.800000e+02</td>\n",
       "      <td>-3.380000e+01</td>\n",
       "      <td>NaN</td>\n",
       "      <td>1.100000e+01</td>\n",
       "      <td>NaN</td>\n",
       "      <td>NaN</td>\n",
       "      <td>NaN</td>\n",
       "    </tr>\n",
       "    <tr>\n",
       "      <th>25%</th>\n",
       "      <td>8.123215e+05</td>\n",
       "      <td>-4.672948e+18</td>\n",
       "      <td>NaN</td>\n",
       "      <td>0.000000e+00</td>\n",
       "      <td>0.000000e+00</td>\n",
       "      <td>NaN</td>\n",
       "      <td>2.700000e+01</td>\n",
       "      <td>NaN</td>\n",
       "      <td>NaN</td>\n",
       "      <td>NaN</td>\n",
       "    </tr>\n",
       "    <tr>\n",
       "      <th>50%</th>\n",
       "      <td>1.627308e+06</td>\n",
       "      <td>-1.173809e+17</td>\n",
       "      <td>NaN</td>\n",
       "      <td>1.127500e+02</td>\n",
       "      <td>2.857000e+01</td>\n",
       "      <td>NaN</td>\n",
       "      <td>3.100000e+01</td>\n",
       "      <td>NaN</td>\n",
       "      <td>NaN</td>\n",
       "      <td>NaN</td>\n",
       "    </tr>\n",
       "    <tr>\n",
       "      <th>75%</th>\n",
       "      <td>2.440378e+06</td>\n",
       "      <td>4.631837e+18</td>\n",
       "      <td>NaN</td>\n",
       "      <td>1.171700e+02</td>\n",
       "      <td>3.401000e+01</td>\n",
       "      <td>NaN</td>\n",
       "      <td>3.900000e+01</td>\n",
       "      <td>NaN</td>\n",
       "      <td>NaN</td>\n",
       "      <td>NaN</td>\n",
       "    </tr>\n",
       "    <tr>\n",
       "      <th>max</th>\n",
       "      <td>3.252948e+06</td>\n",
       "      <td>9.220915e+18</td>\n",
       "      <td>NaN</td>\n",
       "      <td>1.511800e+02</td>\n",
       "      <td>5.364000e+01</td>\n",
       "      <td>NaN</td>\n",
       "      <td>8.900000e+01</td>\n",
       "      <td>NaN</td>\n",
       "      <td>NaN</td>\n",
       "      <td>NaN</td>\n",
       "    </tr>\n",
       "  </tbody>\n",
       "</table>\n",
       "</div>"
      ],
      "text/plain": [
       "            event_id     device_id            timestamp     longitude  \\\n",
       "count   1.215616e+06  1.215616e+06              1215616  1.215616e+06   \n",
       "unique           NaN           NaN               497663           NaN   \n",
       "top              NaN           NaN  2016-05-03 10:00:03           NaN   \n",
       "freq             NaN           NaN                   18           NaN   \n",
       "mean    1.626674e+06 -3.106798e+16                  NaN  7.839264e+01   \n",
       "std     9.396635e+05  5.322372e+18                  NaN  5.381290e+01   \n",
       "min     1.000000e+00 -9.222957e+18                  NaN -1.800000e+02   \n",
       "25%     8.123215e+05 -4.672948e+18                  NaN  0.000000e+00   \n",
       "50%     1.627308e+06 -1.173809e+17                  NaN  1.127500e+02   \n",
       "75%     2.440378e+06  4.631837e+18                  NaN  1.171700e+02   \n",
       "max     3.252948e+06  9.220915e+18                  NaN  1.511800e+02   \n",
       "\n",
       "            latitude   gender           age    group phone_brand device_model  \n",
       "count   1.215616e+06  1215616  1.215616e+06  1215616     1215616      1215616  \n",
       "unique           NaN        2           NaN       12          89          926  \n",
       "top              NaN        M           NaN     M39+          华为          荣耀6  \n",
       "freq             NaN   864324           NaN   211020      375959        54987  \n",
       "mean    2.182718e+01      NaN  3.350004e+01      NaN         NaN          NaN  \n",
       "std     1.564838e+01      NaN  9.745614e+00      NaN         NaN          NaN  \n",
       "min    -3.380000e+01      NaN  1.100000e+01      NaN         NaN          NaN  \n",
       "25%     0.000000e+00      NaN  2.700000e+01      NaN         NaN          NaN  \n",
       "50%     2.857000e+01      NaN  3.100000e+01      NaN         NaN          NaN  \n",
       "75%     3.401000e+01      NaN  3.900000e+01      NaN         NaN          NaN  \n",
       "max     5.364000e+01      NaN  8.900000e+01      NaN         NaN          NaN  "
      ]
     },
     "execution_count": 19,
     "metadata": {},
     "output_type": "execute_result"
    }
   ],
   "source": [
    "df.describe(include='all')"
   ]
  },
  {
   "cell_type": "markdown",
   "id": "d8078351",
   "metadata": {},
   "source": [
    "- Highest value of age is 89 and lowest is 11.\n",
    "- Most of people in the age group M39+.\n",
    "- No. of male customers is greater than female customers."
   ]
  },
  {
   "cell_type": "markdown",
   "id": "77b85d07",
   "metadata": {},
   "source": [
    "##  Dropping irrelevant columns "
   ]
  },
  {
   "cell_type": "code",
   "execution_count": 20,
   "id": "1969ea9a",
   "metadata": {},
   "outputs": [],
   "source": [
    "df.drop(columns=[\"event_id\",\"device_id\",\"timestamp\",\"device_model\"],axis=1,inplace=True)"
   ]
  },
  {
   "cell_type": "code",
   "execution_count": 21,
   "id": "b13cbc2f",
   "metadata": {},
   "outputs": [
    {
     "data": {
      "text/html": [
       "<div>\n",
       "<style scoped>\n",
       "    .dataframe tbody tr th:only-of-type {\n",
       "        vertical-align: middle;\n",
       "    }\n",
       "\n",
       "    .dataframe tbody tr th {\n",
       "        vertical-align: top;\n",
       "    }\n",
       "\n",
       "    .dataframe thead th {\n",
       "        text-align: right;\n",
       "    }\n",
       "</style>\n",
       "<table border=\"1\" class=\"dataframe\">\n",
       "  <thead>\n",
       "    <tr style=\"text-align: right;\">\n",
       "      <th></th>\n",
       "      <th>longitude</th>\n",
       "      <th>latitude</th>\n",
       "      <th>gender</th>\n",
       "      <th>age</th>\n",
       "      <th>group</th>\n",
       "      <th>phone_brand</th>\n",
       "    </tr>\n",
       "  </thead>\n",
       "  <tbody>\n",
       "    <tr>\n",
       "      <th>0</th>\n",
       "      <td>121.38</td>\n",
       "      <td>31.24</td>\n",
       "      <td>M</td>\n",
       "      <td>46</td>\n",
       "      <td>M39+</td>\n",
       "      <td>小米</td>\n",
       "    </tr>\n",
       "    <tr>\n",
       "      <th>1</th>\n",
       "      <td>121.38</td>\n",
       "      <td>31.24</td>\n",
       "      <td>M</td>\n",
       "      <td>46</td>\n",
       "      <td>M39+</td>\n",
       "      <td>小米</td>\n",
       "    </tr>\n",
       "    <tr>\n",
       "      <th>2</th>\n",
       "      <td>121.39</td>\n",
       "      <td>31.23</td>\n",
       "      <td>M</td>\n",
       "      <td>46</td>\n",
       "      <td>M39+</td>\n",
       "      <td>小米</td>\n",
       "    </tr>\n",
       "  </tbody>\n",
       "</table>\n",
       "</div>"
      ],
      "text/plain": [
       "   longitude  latitude gender  age group phone_brand\n",
       "0     121.38     31.24      M   46  M39+          小米\n",
       "1     121.38     31.24      M   46  M39+          小米\n",
       "2     121.39     31.23      M   46  M39+          小米"
      ]
     },
     "execution_count": 21,
     "metadata": {},
     "output_type": "execute_result"
    }
   ],
   "source": [
    "df.head(3)"
   ]
  },
  {
   "cell_type": "markdown",
   "id": "c9bc5af4",
   "metadata": {},
   "source": [
    "## Data Visualization of the data set "
   ]
  },
  {
   "cell_type": "code",
   "execution_count": 22,
   "id": "f1ecf488",
   "metadata": {},
   "outputs": [
    {
     "data": {
      "text/plain": [
       "<AxesSubplot:>"
      ]
     },
     "execution_count": 22,
     "metadata": {},
     "output_type": "execute_result"
    },
    {
     "data": {
      "image/png": "[encoded data removed]",
      "text/plain": [
       "<Figure size 432x288 with 2 Axes>"
      ]
     },
     "metadata": {
      "needs_background": "light"
     },
     "output_type": "display_data"
    }
   ],
   "source": [
    "sns.heatmap(df.corr(),annot=True)"
   ]
  },
  {
   "cell_type": "code",
   "execution_count": 23,
   "id": "d6a66371",
   "metadata": {},
   "outputs": [
    {
     "data": {
      "text/plain": [
       "<AxesSubplot:ylabel='Frequency'>"
      ]
     },
     "execution_count": 23,
     "metadata": {},
     "output_type": "execute_result"
    },
    {
     "data": {
      "image/png": "[encoded data removed]",
      "text/plain": [
       "<Figure size 432x288 with 1 Axes>"
      ]
     },
     "metadata": {
      "needs_background": "light"
     },
     "output_type": "display_data"
    }
   ],
   "source": [
    "df['longitude'].plot(kind='hist')"
   ]
  },
  {
   "cell_type": "code",
   "execution_count": 24,
   "id": "ff607f8d",
   "metadata": {},
   "outputs": [
    {
     "data": {
      "text/plain": [
       "<AxesSubplot:ylabel='Frequency'>"
      ]
     },
     "execution_count": 24,
     "metadata": {},
     "output_type": "execute_result"
    },
    {
     "data": {
      "image/png": "[encoded data removed]",
      "text/plain": [
       "<Figure size 432x288 with 1 Axes>"
      ]
     },
     "metadata": {
      "needs_background": "light"
     },
     "output_type": "display_data"
    }
   ],
   "source": [
    "df['latitude'].plot(kind='hist')"
   ]
  },
  {
   "cell_type": "code",
   "execution_count": 25,
   "id": "752e5b09",
   "metadata": {},
   "outputs": [],
   "source": [
    "sns.set(rc={'figure.figsize':(18,8)})"
   ]
  },
  {
   "cell_type": "code",
   "execution_count": 26,
   "id": "9ebbbb65",
   "metadata": {},
   "outputs": [
    {
     "data": {
      "text/plain": [
       "<AxesSubplot:xlabel='age', ylabel='count'>"
      ]
     },
     "execution_count": 26,
     "metadata": {},
     "output_type": "execute_result"
    },
    {
     "data": {
      "image/png": "[encoded data removed]",
      "text/plain": [
       "<Figure size 1296x576 with 1 Axes>"
      ]
     },
     "metadata": {},
     "output_type": "display_data"
    }
   ],
   "source": [
    "sns.countplot(data = df ,x='age',hue='gender')"
   ]
  },
  {
   "cell_type": "code",
   "execution_count": 27,
   "id": "c11785fe",
   "metadata": {},
   "outputs": [
    {
     "data": {
      "text/plain": [
       "<AxesSubplot:xlabel='group', ylabel='count'>"
      ]
     },
     "execution_count": 27,
     "metadata": {},
     "output_type": "execute_result"
    },
    {
     "data": {
      "image/png": "[encoded data removed]",
      "text/plain": [
       "<Figure size 1296x576 with 1 Axes>"
      ]
     },
     "metadata": {},
     "output_type": "display_data"
    }
   ],
   "source": [
    "sns.countplot(data = df ,x='group',hue='gender')"
   ]
  },
  {
   "cell_type": "markdown",
   "id": "bbeb004c",
   "metadata": {},
   "source": [
    "##  Encoding the categorical variables "
   ]
  },
  {
   "cell_type": "code",
   "execution_count": 28,
   "id": "997a9900",
   "metadata": {},
   "outputs": [],
   "source": [
    "gender=pd.get_dummies(df['gender'])"
   ]
  },
  {
   "cell_type": "code",
   "execution_count": 29,
   "id": "025d1067",
   "metadata": {},
   "outputs": [
    {
     "data": {
      "text/html": [
       "<div>\n",
       "<style scoped>\n",
       "    .dataframe tbody tr th:only-of-type {\n",
       "        vertical-align: middle;\n",
       "    }\n",
       "\n",
       "    .dataframe tbody tr th {\n",
       "        vertical-align: top;\n",
       "    }\n",
       "\n",
       "    .dataframe thead th {\n",
       "        text-align: right;\n",
       "    }\n",
       "</style>\n",
       "<table border=\"1\" class=\"dataframe\">\n",
       "  <thead>\n",
       "    <tr style=\"text-align: right;\">\n",
       "      <th></th>\n",
       "      <th>F</th>\n",
       "      <th>M</th>\n",
       "    </tr>\n",
       "  </thead>\n",
       "  <tbody>\n",
       "    <tr>\n",
       "      <th>0</th>\n",
       "      <td>0</td>\n",
       "      <td>1</td>\n",
       "    </tr>\n",
       "    <tr>\n",
       "      <th>1</th>\n",
       "      <td>0</td>\n",
       "      <td>1</td>\n",
       "    </tr>\n",
       "    <tr>\n",
       "      <th>2</th>\n",
       "      <td>0</td>\n",
       "      <td>1</td>\n",
       "    </tr>\n",
       "    <tr>\n",
       "      <th>3</th>\n",
       "      <td>0</td>\n",
       "      <td>1</td>\n",
       "    </tr>\n",
       "    <tr>\n",
       "      <th>4</th>\n",
       "      <td>0</td>\n",
       "      <td>1</td>\n",
       "    </tr>\n",
       "    <tr>\n",
       "      <th>...</th>\n",
       "      <td>...</td>\n",
       "      <td>...</td>\n",
       "    </tr>\n",
       "    <tr>\n",
       "      <th>1220469</th>\n",
       "      <td>0</td>\n",
       "      <td>1</td>\n",
       "    </tr>\n",
       "    <tr>\n",
       "      <th>1220470</th>\n",
       "      <td>0</td>\n",
       "      <td>1</td>\n",
       "    </tr>\n",
       "    <tr>\n",
       "      <th>1220471</th>\n",
       "      <td>0</td>\n",
       "      <td>1</td>\n",
       "    </tr>\n",
       "    <tr>\n",
       "      <th>1220472</th>\n",
       "      <td>0</td>\n",
       "      <td>1</td>\n",
       "    </tr>\n",
       "    <tr>\n",
       "      <th>1220473</th>\n",
       "      <td>1</td>\n",
       "      <td>0</td>\n",
       "    </tr>\n",
       "  </tbody>\n",
       "</table>\n",
       "<p>1215616 rows × 2 columns</p>\n",
       "</div>"
      ],
      "text/plain": [
       "         F  M\n",
       "0        0  1\n",
       "1        0  1\n",
       "2        0  1\n",
       "3        0  1\n",
       "4        0  1\n",
       "...     .. ..\n",
       "1220469  0  1\n",
       "1220470  0  1\n",
       "1220471  0  1\n",
       "1220472  0  1\n",
       "1220473  1  0\n",
       "\n",
       "[1215616 rows x 2 columns]"
      ]
     },
     "execution_count": 29,
     "metadata": {},
     "output_type": "execute_result"
    }
   ],
   "source": [
    "gender"
   ]
  },
  {
   "cell_type": "code",
   "execution_count": 30,
   "id": "b1acc103",
   "metadata": {},
   "outputs": [],
   "source": [
    "df.drop('gender',axis=1,inplace=True)\n",
    "df=pd.concat([df,gender],axis=1)"
   ]
  },
  {
   "cell_type": "code",
   "execution_count": 31,
   "id": "3659dfa7",
   "metadata": {},
   "outputs": [
    {
     "data": {
      "text/html": [
       "<div>\n",
       "<style scoped>\n",
       "    .dataframe tbody tr th:only-of-type {\n",
       "        vertical-align: middle;\n",
       "    }\n",
       "\n",
       "    .dataframe tbody tr th {\n",
       "        vertical-align: top;\n",
       "    }\n",
       "\n",
       "    .dataframe thead th {\n",
       "        text-align: right;\n",
       "    }\n",
       "</style>\n",
       "<table border=\"1\" class=\"dataframe\">\n",
       "  <thead>\n",
       "    <tr style=\"text-align: right;\">\n",
       "      <th></th>\n",
       "      <th>longitude</th>\n",
       "      <th>latitude</th>\n",
       "      <th>age</th>\n",
       "      <th>group</th>\n",
       "      <th>phone_brand</th>\n",
       "      <th>F</th>\n",
       "      <th>M</th>\n",
       "    </tr>\n",
       "  </thead>\n",
       "  <tbody>\n",
       "    <tr>\n",
       "      <th>0</th>\n",
       "      <td>121.38</td>\n",
       "      <td>31.24</td>\n",
       "      <td>46</td>\n",
       "      <td>M39+</td>\n",
       "      <td>小米</td>\n",
       "      <td>0</td>\n",
       "      <td>1</td>\n",
       "    </tr>\n",
       "    <tr>\n",
       "      <th>1</th>\n",
       "      <td>121.38</td>\n",
       "      <td>31.24</td>\n",
       "      <td>46</td>\n",
       "      <td>M39+</td>\n",
       "      <td>小米</td>\n",
       "      <td>0</td>\n",
       "      <td>1</td>\n",
       "    </tr>\n",
       "    <tr>\n",
       "      <th>2</th>\n",
       "      <td>121.39</td>\n",
       "      <td>31.23</td>\n",
       "      <td>46</td>\n",
       "      <td>M39+</td>\n",
       "      <td>小米</td>\n",
       "      <td>0</td>\n",
       "      <td>1</td>\n",
       "    </tr>\n",
       "  </tbody>\n",
       "</table>\n",
       "</div>"
      ],
      "text/plain": [
       "   longitude  latitude  age group phone_brand  F  M\n",
       "0     121.38     31.24   46  M39+          小米  0  1\n",
       "1     121.38     31.24   46  M39+          小米  0  1\n",
       "2     121.39     31.23   46  M39+          小米  0  1"
      ]
     },
     "execution_count": 31,
     "metadata": {},
     "output_type": "execute_result"
    }
   ],
   "source": [
    "df.head(3)"
   ]
  },
  {
   "cell_type": "code",
   "execution_count": 32,
   "id": "0e07d59c",
   "metadata": {},
   "outputs": [
    {
     "data": {
      "text/plain": [
       "M39+      211020\n",
       "M32-38    210708\n",
       "M29-31    140747\n",
       "M23-26    138526\n",
       "M27-28     88984\n",
       "F33-42     88034\n",
       "F43+       75376\n",
       "M22-       74339\n",
       "F29-32     56863\n",
       "F24-26     45314\n",
       "F23-       44497\n",
       "F27-28     41208\n",
       "Name: group, dtype: int64"
      ]
     },
     "execution_count": 32,
     "metadata": {},
     "output_type": "execute_result"
    }
   ],
   "source": [
    "df['group'].value_counts()"
   ]
  },
  {
   "cell_type": "code",
   "execution_count": 33,
   "id": "3a87652b",
   "metadata": {},
   "outputs": [],
   "source": [
    "group=pd.get_dummies(df['group'])"
   ]
  },
  {
   "cell_type": "code",
   "execution_count": 34,
   "id": "4412828e",
   "metadata": {},
   "outputs": [],
   "source": [
    "df.drop('group',axis=1,inplace=True)\n",
    "df=pd.concat([df,group],axis=1)"
   ]
  },
  {
   "cell_type": "code",
   "execution_count": 35,
   "id": "59cbd25c",
   "metadata": {},
   "outputs": [
    {
     "data": {
      "text/plain": [
       "(1215616, 18)"
      ]
     },
     "execution_count": 35,
     "metadata": {},
     "output_type": "execute_result"
    }
   ],
   "source": [
    "df.shape"
   ]
  },
  {
   "cell_type": "code",
   "execution_count": 36,
   "id": "1c83999e",
   "metadata": {},
   "outputs": [],
   "source": [
    "phone_brand=pd.get_dummies(df['phone_brand'])"
   ]
  },
  {
   "cell_type": "code",
   "execution_count": 37,
   "id": "d85ac05f",
   "metadata": {},
   "outputs": [],
   "source": [
    "df.drop('phone_brand',axis=1,inplace=True)\n",
    "df=pd.concat([df,phone_brand],axis=1)"
   ]
  },
  {
   "cell_type": "code",
   "execution_count": 38,
   "id": "e4d5b59d",
   "metadata": {},
   "outputs": [
    {
     "data": {
      "text/plain": [
       "(1215616, 106)"
      ]
     },
     "execution_count": 38,
     "metadata": {},
     "output_type": "execute_result"
    }
   ],
   "source": [
    "df.shape"
   ]
  },
  {
   "cell_type": "code",
   "execution_count": 39,
   "id": "e29bcf6f",
   "metadata": {},
   "outputs": [
    {
     "data": {
      "text/html": [
       "<div>\n",
       "<style scoped>\n",
       "    .dataframe tbody tr th:only-of-type {\n",
       "        vertical-align: middle;\n",
       "    }\n",
       "\n",
       "    .dataframe tbody tr th {\n",
       "        vertical-align: top;\n",
       "    }\n",
       "\n",
       "    .dataframe thead th {\n",
       "        text-align: right;\n",
       "    }\n",
       "</style>\n",
       "<table border=\"1\" class=\"dataframe\">\n",
       "  <thead>\n",
       "    <tr style=\"text-align: right;\">\n",
       "      <th></th>\n",
       "      <th>longitude</th>\n",
       "      <th>latitude</th>\n",
       "      <th>age</th>\n",
       "      <th>F</th>\n",
       "      <th>M</th>\n",
       "      <th>F23-</th>\n",
       "      <th>F24-26</th>\n",
       "      <th>F27-28</th>\n",
       "      <th>F29-32</th>\n",
       "      <th>F33-42</th>\n",
       "      <th>...</th>\n",
       "      <th>酷比魔方</th>\n",
       "      <th>酷派</th>\n",
       "      <th>酷珀</th>\n",
       "      <th>金立</th>\n",
       "      <th>锤子</th>\n",
       "      <th>长虹</th>\n",
       "      <th>青橙</th>\n",
       "      <th>青葱</th>\n",
       "      <th>魅族</th>\n",
       "      <th>鲜米</th>\n",
       "    </tr>\n",
       "  </thead>\n",
       "  <tbody>\n",
       "    <tr>\n",
       "      <th>0</th>\n",
       "      <td>121.38</td>\n",
       "      <td>31.24</td>\n",
       "      <td>46</td>\n",
       "      <td>0</td>\n",
       "      <td>1</td>\n",
       "      <td>0</td>\n",
       "      <td>0</td>\n",
       "      <td>0</td>\n",
       "      <td>0</td>\n",
       "      <td>0</td>\n",
       "      <td>...</td>\n",
       "      <td>0</td>\n",
       "      <td>0</td>\n",
       "      <td>0</td>\n",
       "      <td>0</td>\n",
       "      <td>0</td>\n",
       "      <td>0</td>\n",
       "      <td>0</td>\n",
       "      <td>0</td>\n",
       "      <td>0</td>\n",
       "      <td>0</td>\n",
       "    </tr>\n",
       "    <tr>\n",
       "      <th>1</th>\n",
       "      <td>121.38</td>\n",
       "      <td>31.24</td>\n",
       "      <td>46</td>\n",
       "      <td>0</td>\n",
       "      <td>1</td>\n",
       "      <td>0</td>\n",
       "      <td>0</td>\n",
       "      <td>0</td>\n",
       "      <td>0</td>\n",
       "      <td>0</td>\n",
       "      <td>...</td>\n",
       "      <td>0</td>\n",
       "      <td>0</td>\n",
       "      <td>0</td>\n",
       "      <td>0</td>\n",
       "      <td>0</td>\n",
       "      <td>0</td>\n",
       "      <td>0</td>\n",
       "      <td>0</td>\n",
       "      <td>0</td>\n",
       "      <td>0</td>\n",
       "    </tr>\n",
       "    <tr>\n",
       "      <th>2</th>\n",
       "      <td>121.39</td>\n",
       "      <td>31.23</td>\n",
       "      <td>46</td>\n",
       "      <td>0</td>\n",
       "      <td>1</td>\n",
       "      <td>0</td>\n",
       "      <td>0</td>\n",
       "      <td>0</td>\n",
       "      <td>0</td>\n",
       "      <td>0</td>\n",
       "      <td>...</td>\n",
       "      <td>0</td>\n",
       "      <td>0</td>\n",
       "      <td>0</td>\n",
       "      <td>0</td>\n",
       "      <td>0</td>\n",
       "      <td>0</td>\n",
       "      <td>0</td>\n",
       "      <td>0</td>\n",
       "      <td>0</td>\n",
       "      <td>0</td>\n",
       "    </tr>\n",
       "  </tbody>\n",
       "</table>\n",
       "<p>3 rows × 106 columns</p>\n",
       "</div>"
      ],
      "text/plain": [
       "   longitude  latitude  age  F  M  F23-  F24-26  F27-28  F29-32  F33-42  ...  \\\n",
       "0     121.38     31.24   46  0  1     0       0       0       0       0  ...   \n",
       "1     121.38     31.24   46  0  1     0       0       0       0       0  ...   \n",
       "2     121.39     31.23   46  0  1     0       0       0       0       0  ...   \n",
       "\n",
       "   酷比魔方  酷派  酷珀  金立  锤子  长虹  青橙  青葱  魅族  鲜米  \n",
       "0     0   0   0   0   0   0   0   0   0   0  \n",
       "1     0   0   0   0   0   0   0   0   0   0  \n",
       "2     0   0   0   0   0   0   0   0   0   0  \n",
       "\n",
       "[3 rows x 106 columns]"
      ]
     },
     "execution_count": 39,
     "metadata": {},
     "output_type": "execute_result"
    }
   ],
   "source": [
    "df.head(3)"
   ]
  },
  {
   "cell_type": "code",
   "execution_count": 40,
   "id": "30207ea1",
   "metadata": {},
   "outputs": [
    {
     "data": {
      "text/plain": [
       "(1215616, 106)"
      ]
     },
     "execution_count": 40,
     "metadata": {},
     "output_type": "execute_result"
    }
   ],
   "source": [
    "df.shape"
   ]
  },
  {
   "cell_type": "code",
   "execution_count": 41,
   "id": "fac829c6",
   "metadata": {},
   "outputs": [],
   "source": [
    "dfc1=df.copy()"
   ]
  },
  {
   "cell_type": "code",
   "execution_count": 42,
   "id": "ba028469",
   "metadata": {},
   "outputs": [],
   "source": [
    "dfc=dfc1.head(1000)"
   ]
  },
  {
   "cell_type": "code",
   "execution_count": 43,
   "id": "4ca6f83c",
   "metadata": {},
   "outputs": [
    {
     "data": {
      "text/plain": [
       "(1000, 106)"
      ]
     },
     "execution_count": 43,
     "metadata": {},
     "output_type": "execute_result"
    }
   ],
   "source": [
    "dfc.shape"
   ]
  },
  {
   "cell_type": "markdown",
   "id": "6a4a3d8c",
   "metadata": {},
   "source": [
    "##  Standardizing the data"
   ]
  },
  {
   "cell_type": "code",
   "execution_count": 44,
   "id": "781df8e6",
   "metadata": {},
   "outputs": [
    {
     "data": {
      "text/html": [
       "<div>\n",
       "<style scoped>\n",
       "    .dataframe tbody tr th:only-of-type {\n",
       "        vertical-align: middle;\n",
       "    }\n",
       "\n",
       "    .dataframe tbody tr th {\n",
       "        vertical-align: top;\n",
       "    }\n",
       "\n",
       "    .dataframe thead th {\n",
       "        text-align: right;\n",
       "    }\n",
       "</style>\n",
       "<table border=\"1\" class=\"dataframe\">\n",
       "  <thead>\n",
       "    <tr style=\"text-align: right;\">\n",
       "      <th></th>\n",
       "      <th>longitude</th>\n",
       "      <th>latitude</th>\n",
       "      <th>age</th>\n",
       "    </tr>\n",
       "  </thead>\n",
       "  <tbody>\n",
       "    <tr>\n",
       "      <th>0</th>\n",
       "      <td>121.38</td>\n",
       "      <td>31.24</td>\n",
       "      <td>46</td>\n",
       "    </tr>\n",
       "    <tr>\n",
       "      <th>1</th>\n",
       "      <td>121.38</td>\n",
       "      <td>31.24</td>\n",
       "      <td>46</td>\n",
       "    </tr>\n",
       "    <tr>\n",
       "      <th>2</th>\n",
       "      <td>121.39</td>\n",
       "      <td>31.23</td>\n",
       "      <td>46</td>\n",
       "    </tr>\n",
       "    <tr>\n",
       "      <th>3</th>\n",
       "      <td>121.38</td>\n",
       "      <td>31.24</td>\n",
       "      <td>46</td>\n",
       "    </tr>\n",
       "    <tr>\n",
       "      <th>4</th>\n",
       "      <td>121.16</td>\n",
       "      <td>31.00</td>\n",
       "      <td>46</td>\n",
       "    </tr>\n",
       "    <tr>\n",
       "      <th>...</th>\n",
       "      <td>...</td>\n",
       "      <td>...</td>\n",
       "      <td>...</td>\n",
       "    </tr>\n",
       "    <tr>\n",
       "      <th>1220469</th>\n",
       "      <td>0.00</td>\n",
       "      <td>0.00</td>\n",
       "      <td>18</td>\n",
       "    </tr>\n",
       "    <tr>\n",
       "      <th>1220470</th>\n",
       "      <td>0.00</td>\n",
       "      <td>0.00</td>\n",
       "      <td>21</td>\n",
       "    </tr>\n",
       "    <tr>\n",
       "      <th>1220471</th>\n",
       "      <td>0.00</td>\n",
       "      <td>0.00</td>\n",
       "      <td>49</td>\n",
       "    </tr>\n",
       "    <tr>\n",
       "      <th>1220472</th>\n",
       "      <td>0.00</td>\n",
       "      <td>0.00</td>\n",
       "      <td>26</td>\n",
       "    </tr>\n",
       "    <tr>\n",
       "      <th>1220473</th>\n",
       "      <td>0.00</td>\n",
       "      <td>0.00</td>\n",
       "      <td>20</td>\n",
       "    </tr>\n",
       "  </tbody>\n",
       "</table>\n",
       "<p>1215616 rows × 3 columns</p>\n",
       "</div>"
      ],
      "text/plain": [
       "         longitude  latitude  age\n",
       "0           121.38     31.24   46\n",
       "1           121.38     31.24   46\n",
       "2           121.39     31.23   46\n",
       "3           121.38     31.24   46\n",
       "4           121.16     31.00   46\n",
       "...            ...       ...  ...\n",
       "1220469       0.00      0.00   18\n",
       "1220470       0.00      0.00   21\n",
       "1220471       0.00      0.00   49\n",
       "1220472       0.00      0.00   26\n",
       "1220473       0.00      0.00   20\n",
       "\n",
       "[1215616 rows x 3 columns]"
      ]
     },
     "execution_count": 44,
     "metadata": {},
     "output_type": "execute_result"
    }
   ],
   "source": [
    "df.iloc[:,0:3]"
   ]
  },
  {
   "cell_type": "code",
   "execution_count": 45,
   "id": "0cd076dc",
   "metadata": {},
   "outputs": [],
   "source": [
    "from sklearn.preprocessing import StandardScaler"
   ]
  },
  {
   "cell_type": "code",
   "execution_count": 46,
   "id": "3f3fa238",
   "metadata": {},
   "outputs": [],
   "source": [
    "sc=StandardScaler()\n",
    "df.iloc[:,0:3]=sc.fit_transform(df.iloc[:,0:3])"
   ]
  },
  {
   "cell_type": "code",
   "execution_count": 47,
   "id": "2d1e93d4",
   "metadata": {},
   "outputs": [
    {
     "data": {
      "text/html": [
       "<div>\n",
       "<style scoped>\n",
       "    .dataframe tbody tr th:only-of-type {\n",
       "        vertical-align: middle;\n",
       "    }\n",
       "\n",
       "    .dataframe tbody tr th {\n",
       "        vertical-align: top;\n",
       "    }\n",
       "\n",
       "    .dataframe thead th {\n",
       "        text-align: right;\n",
       "    }\n",
       "</style>\n",
       "<table border=\"1\" class=\"dataframe\">\n",
       "  <thead>\n",
       "    <tr style=\"text-align: right;\">\n",
       "      <th></th>\n",
       "      <th>longitude</th>\n",
       "      <th>latitude</th>\n",
       "      <th>age</th>\n",
       "      <th>F</th>\n",
       "      <th>M</th>\n",
       "      <th>F23-</th>\n",
       "      <th>F24-26</th>\n",
       "      <th>F27-28</th>\n",
       "      <th>F29-32</th>\n",
       "      <th>F33-42</th>\n",
       "      <th>...</th>\n",
       "      <th>酷比魔方</th>\n",
       "      <th>酷派</th>\n",
       "      <th>酷珀</th>\n",
       "      <th>金立</th>\n",
       "      <th>锤子</th>\n",
       "      <th>长虹</th>\n",
       "      <th>青橙</th>\n",
       "      <th>青葱</th>\n",
       "      <th>魅族</th>\n",
       "      <th>鲜米</th>\n",
       "    </tr>\n",
       "  </thead>\n",
       "  <tbody>\n",
       "    <tr>\n",
       "      <th>0</th>\n",
       "      <td>0.798830</td>\n",
       "      <td>0.601520</td>\n",
       "      <td>1.282625</td>\n",
       "      <td>0</td>\n",
       "      <td>1</td>\n",
       "      <td>0</td>\n",
       "      <td>0</td>\n",
       "      <td>0</td>\n",
       "      <td>0</td>\n",
       "      <td>0</td>\n",
       "      <td>...</td>\n",
       "      <td>0</td>\n",
       "      <td>0</td>\n",
       "      <td>0</td>\n",
       "      <td>0</td>\n",
       "      <td>0</td>\n",
       "      <td>0</td>\n",
       "      <td>0</td>\n",
       "      <td>0</td>\n",
       "      <td>0</td>\n",
       "      <td>0</td>\n",
       "    </tr>\n",
       "    <tr>\n",
       "      <th>1</th>\n",
       "      <td>0.798830</td>\n",
       "      <td>0.601520</td>\n",
       "      <td>1.282625</td>\n",
       "      <td>0</td>\n",
       "      <td>1</td>\n",
       "      <td>0</td>\n",
       "      <td>0</td>\n",
       "      <td>0</td>\n",
       "      <td>0</td>\n",
       "      <td>0</td>\n",
       "      <td>...</td>\n",
       "      <td>0</td>\n",
       "      <td>0</td>\n",
       "      <td>0</td>\n",
       "      <td>0</td>\n",
       "      <td>0</td>\n",
       "      <td>0</td>\n",
       "      <td>0</td>\n",
       "      <td>0</td>\n",
       "      <td>0</td>\n",
       "      <td>0</td>\n",
       "    </tr>\n",
       "    <tr>\n",
       "      <th>2</th>\n",
       "      <td>0.799016</td>\n",
       "      <td>0.600881</td>\n",
       "      <td>1.282625</td>\n",
       "      <td>0</td>\n",
       "      <td>1</td>\n",
       "      <td>0</td>\n",
       "      <td>0</td>\n",
       "      <td>0</td>\n",
       "      <td>0</td>\n",
       "      <td>0</td>\n",
       "      <td>...</td>\n",
       "      <td>0</td>\n",
       "      <td>0</td>\n",
       "      <td>0</td>\n",
       "      <td>0</td>\n",
       "      <td>0</td>\n",
       "      <td>0</td>\n",
       "      <td>0</td>\n",
       "      <td>0</td>\n",
       "      <td>0</td>\n",
       "      <td>0</td>\n",
       "    </tr>\n",
       "  </tbody>\n",
       "</table>\n",
       "<p>3 rows × 106 columns</p>\n",
       "</div>"
      ],
      "text/plain": [
       "   longitude  latitude       age  F  M  F23-  F24-26  F27-28  F29-32  F33-42  \\\n",
       "0   0.798830  0.601520  1.282625  0  1     0       0       0       0       0   \n",
       "1   0.798830  0.601520  1.282625  0  1     0       0       0       0       0   \n",
       "2   0.799016  0.600881  1.282625  0  1     0       0       0       0       0   \n",
       "\n",
       "   ...  酷比魔方  酷派  酷珀  金立  锤子  长虹  青橙  青葱  魅族  鲜米  \n",
       "0  ...     0   0   0   0   0   0   0   0   0   0  \n",
       "1  ...     0   0   0   0   0   0   0   0   0   0  \n",
       "2  ...     0   0   0   0   0   0   0   0   0   0  \n",
       "\n",
       "[3 rows x 106 columns]"
      ]
     },
     "execution_count": 47,
     "metadata": {},
     "output_type": "execute_result"
    }
   ],
   "source": [
    "df.head(3)"
   ]
  },
  {
   "cell_type": "code",
   "execution_count": 48,
   "id": "d4be34f2",
   "metadata": {},
   "outputs": [
    {
     "data": {
      "text/html": [
       "<div>\n",
       "<style scoped>\n",
       "    .dataframe tbody tr th:only-of-type {\n",
       "        vertical-align: middle;\n",
       "    }\n",
       "\n",
       "    .dataframe tbody tr th {\n",
       "        vertical-align: top;\n",
       "    }\n",
       "\n",
       "    .dataframe thead th {\n",
       "        text-align: right;\n",
       "    }\n",
       "</style>\n",
       "<table border=\"1\" class=\"dataframe\">\n",
       "  <thead>\n",
       "    <tr style=\"text-align: right;\">\n",
       "      <th></th>\n",
       "      <th>longitude</th>\n",
       "      <th>latitude</th>\n",
       "      <th>age</th>\n",
       "      <th>F</th>\n",
       "      <th>M</th>\n",
       "      <th>F23-</th>\n",
       "      <th>F24-26</th>\n",
       "      <th>F27-28</th>\n",
       "      <th>F29-32</th>\n",
       "      <th>F33-42</th>\n",
       "      <th>...</th>\n",
       "      <th>酷比魔方</th>\n",
       "      <th>酷派</th>\n",
       "      <th>酷珀</th>\n",
       "      <th>金立</th>\n",
       "      <th>锤子</th>\n",
       "      <th>长虹</th>\n",
       "      <th>青橙</th>\n",
       "      <th>青葱</th>\n",
       "      <th>魅族</th>\n",
       "      <th>鲜米</th>\n",
       "    </tr>\n",
       "  </thead>\n",
       "  <tbody>\n",
       "    <tr>\n",
       "      <th>561954</th>\n",
       "      <td>0.475859</td>\n",
       "      <td>0.522279</td>\n",
       "      <td>0.153911</td>\n",
       "      <td>0</td>\n",
       "      <td>1</td>\n",
       "      <td>0</td>\n",
       "      <td>0</td>\n",
       "      <td>0</td>\n",
       "      <td>0</td>\n",
       "      <td>0</td>\n",
       "      <td>...</td>\n",
       "      <td>0</td>\n",
       "      <td>0</td>\n",
       "      <td>0</td>\n",
       "      <td>0</td>\n",
       "      <td>0</td>\n",
       "      <td>0</td>\n",
       "      <td>0</td>\n",
       "      <td>0</td>\n",
       "      <td>0</td>\n",
       "      <td>0</td>\n",
       "    </tr>\n",
       "    <tr>\n",
       "      <th>785833</th>\n",
       "      <td>0.751816</td>\n",
       "      <td>0.853943</td>\n",
       "      <td>1.180014</td>\n",
       "      <td>0</td>\n",
       "      <td>1</td>\n",
       "      <td>0</td>\n",
       "      <td>0</td>\n",
       "      <td>0</td>\n",
       "      <td>0</td>\n",
       "      <td>0</td>\n",
       "      <td>...</td>\n",
       "      <td>0</td>\n",
       "      <td>0</td>\n",
       "      <td>0</td>\n",
       "      <td>0</td>\n",
       "      <td>0</td>\n",
       "      <td>0</td>\n",
       "      <td>0</td>\n",
       "      <td>0</td>\n",
       "      <td>0</td>\n",
       "      <td>0</td>\n",
       "    </tr>\n",
       "    <tr>\n",
       "      <th>998325</th>\n",
       "      <td>0.684174</td>\n",
       "      <td>1.184967</td>\n",
       "      <td>-0.359140</td>\n",
       "      <td>0</td>\n",
       "      <td>1</td>\n",
       "      <td>0</td>\n",
       "      <td>0</td>\n",
       "      <td>0</td>\n",
       "      <td>0</td>\n",
       "      <td>0</td>\n",
       "      <td>...</td>\n",
       "      <td>0</td>\n",
       "      <td>0</td>\n",
       "      <td>0</td>\n",
       "      <td>0</td>\n",
       "      <td>0</td>\n",
       "      <td>0</td>\n",
       "      <td>0</td>\n",
       "      <td>0</td>\n",
       "      <td>0</td>\n",
       "      <td>0</td>\n",
       "    </tr>\n",
       "    <tr>\n",
       "      <th>749971</th>\n",
       "      <td>0.833580</td>\n",
       "      <td>1.277629</td>\n",
       "      <td>-1.180022</td>\n",
       "      <td>0</td>\n",
       "      <td>1</td>\n",
       "      <td>0</td>\n",
       "      <td>0</td>\n",
       "      <td>0</td>\n",
       "      <td>0</td>\n",
       "      <td>0</td>\n",
       "      <td>...</td>\n",
       "      <td>0</td>\n",
       "      <td>0</td>\n",
       "      <td>0</td>\n",
       "      <td>0</td>\n",
       "      <td>0</td>\n",
       "      <td>0</td>\n",
       "      <td>0</td>\n",
       "      <td>0</td>\n",
       "      <td>0</td>\n",
       "      <td>0</td>\n",
       "    </tr>\n",
       "    <tr>\n",
       "      <th>523666</th>\n",
       "      <td>0.800689</td>\n",
       "      <td>0.602798</td>\n",
       "      <td>2.719169</td>\n",
       "      <td>1</td>\n",
       "      <td>0</td>\n",
       "      <td>0</td>\n",
       "      <td>0</td>\n",
       "      <td>0</td>\n",
       "      <td>0</td>\n",
       "      <td>0</td>\n",
       "      <td>...</td>\n",
       "      <td>0</td>\n",
       "      <td>0</td>\n",
       "      <td>0</td>\n",
       "      <td>0</td>\n",
       "      <td>0</td>\n",
       "      <td>0</td>\n",
       "      <td>0</td>\n",
       "      <td>0</td>\n",
       "      <td>0</td>\n",
       "      <td>0</td>\n",
       "    </tr>\n",
       "  </tbody>\n",
       "</table>\n",
       "<p>5 rows × 106 columns</p>\n",
       "</div>"
      ],
      "text/plain": [
       "        longitude  latitude       age  F  M  F23-  F24-26  F27-28  F29-32  \\\n",
       "561954   0.475859  0.522279  0.153911  0  1     0       0       0       0   \n",
       "785833   0.751816  0.853943  1.180014  0  1     0       0       0       0   \n",
       "998325   0.684174  1.184967 -0.359140  0  1     0       0       0       0   \n",
       "749971   0.833580  1.277629 -1.180022  0  1     0       0       0       0   \n",
       "523666   0.800689  0.602798  2.719169  1  0     0       0       0       0   \n",
       "\n",
       "        F33-42  ...  酷比魔方  酷派  酷珀  金立  锤子  长虹  青橙  青葱  魅族  鲜米  \n",
       "561954       0  ...     0   0   0   0   0   0   0   0   0   0  \n",
       "785833       0  ...     0   0   0   0   0   0   0   0   0   0  \n",
       "998325       0  ...     0   0   0   0   0   0   0   0   0   0  \n",
       "749971       0  ...     0   0   0   0   0   0   0   0   0   0  \n",
       "523666       0  ...     0   0   0   0   0   0   0   0   0   0  \n",
       "\n",
       "[5 rows x 106 columns]"
      ]
     },
     "execution_count": 48,
     "metadata": {},
     "output_type": "execute_result"
    }
   ],
   "source": [
    "df.sample(5)"
   ]
  },
  {
   "cell_type": "code",
   "execution_count": 49,
   "id": "6edbeb03",
   "metadata": {},
   "outputs": [],
   "source": [
    "X_scaled=df.iloc[:,:].values"
   ]
  },
  {
   "cell_type": "code",
   "execution_count": 50,
   "id": "a30ffed0",
   "metadata": {},
   "outputs": [
    {
     "data": {
      "text/plain": [
       "array([[ 0.79883037,  0.60152027,  1.28262479, ...,  0.        ,\n",
       "         0.        ,  0.        ],\n",
       "       [ 0.79883037,  0.60152027,  1.28262479, ...,  0.        ,\n",
       "         0.        ,  0.        ],\n",
       "       [ 0.7990162 ,  0.60088122,  1.28262479, ...,  0.        ,\n",
       "         0.        ,  0.        ],\n",
       "       ...,\n",
       "       [-1.45676337, -1.39485304,  1.59045569, ...,  0.        ,\n",
       "         0.        ,  0.        ],\n",
       "       [-1.45676337, -1.39485304, -0.76958122, ...,  0.        ,\n",
       "         1.        ,  0.        ],\n",
       "       [-1.45676337, -1.39485304, -1.38524302, ...,  0.        ,\n",
       "         0.        ,  0.        ]])"
      ]
     },
     "execution_count": 50,
     "metadata": {},
     "output_type": "execute_result"
    }
   ],
   "source": [
    "X_scaled"
   ]
  },
  {
   "cell_type": "markdown",
   "id": "2ca84839",
   "metadata": {},
   "source": [
    "## PCA "
   ]
  },
  {
   "cell_type": "code",
   "execution_count": 51,
   "id": "247934c7",
   "metadata": {},
   "outputs": [],
   "source": [
    "import numpy as np"
   ]
  },
  {
   "cell_type": "code",
   "execution_count": 52,
   "id": "cbb149a1",
   "metadata": {},
   "outputs": [],
   "source": [
    "cov_matrix=np.cov(X_scaled.T)"
   ]
  },
  {
   "cell_type": "code",
   "execution_count": 53,
   "id": "5801d1a8",
   "metadata": {},
   "outputs": [
    {
     "name": "stdout",
     "output_type": "stream",
     "text": [
      "[[ 1.00000082e+00  9.49484790e-01  3.68962722e-03 ...  1.12092171e-05\n",
      "  -1.80428261e-02 -1.43805074e-05]\n",
      " [ 9.49484790e-01  1.00000082e+00  2.43944252e-02 ...  2.14477789e-05\n",
      "  -1.79544015e-02 -1.37693566e-05]\n",
      " [ 3.68962722e-03  2.43944252e-02  1.00000082e+00 ... -5.91008442e-07\n",
      "  -1.89704323e-02 -1.36744909e-05]\n",
      " ...\n",
      " [ 1.12092171e-05  2.14477789e-05 -5.91008442e-07 ...  3.45492190e-05\n",
      "  -2.57695051e-06 -3.41065726e-10]\n",
      " [-1.80428261e-02 -1.79544015e-02 -1.89704323e-02 ... -2.57695051e-06\n",
      "   6.90223310e-02 -7.36271575e-07]\n",
      " [-1.43805074e-05 -1.37693566e-05 -1.36744909e-05 ... -3.41065726e-10\n",
      "  -7.36271575e-07  9.87144905e-06]]\n"
     ]
    }
   ],
   "source": [
    "print(cov_matrix)"
   ]
  },
  {
   "cell_type": "code",
   "execution_count": 54,
   "id": "d454cdc7",
   "metadata": {},
   "outputs": [],
   "source": [
    "eig_val,eig_vec=np.linalg.eig(cov_matrix)"
   ]
  },
  {
   "cell_type": "code",
   "execution_count": 55,
   "id": "98862e19",
   "metadata": {},
   "outputs": [
    {
     "name": "stdout",
     "output_type": "stream",
     "text": [
      "Eigen values of the matrix is \n",
      " [ 1.95516723e+00  1.10052656e+00  4.88627809e-01  2.51419490e-01\n",
      "  1.66274451e-01  1.50821082e-01  1.17741698e-01  1.03859192e-01\n",
      "  9.56580373e-02  8.02585623e-02  7.59799982e-02  7.34105478e-02\n",
      "  6.64363934e-02  6.20468988e-02  4.96870475e-02  4.46861379e-02\n",
      "  3.92388545e-02  3.68417640e-02  3.46210165e-02  2.71596810e-02\n",
      "  1.95881530e-02  1.51960459e-02  1.31452408e-02  1.09410898e-02\n",
      "  9.14609606e-03  7.54559747e-03  5.16758950e-03  4.21693334e-03\n",
      "  3.87630324e-03  3.65405745e-03  3.10966203e-03  2.54520032e-03\n",
      "  2.32902913e-03  1.78206885e-03  1.41726459e-03  1.27618100e-03\n",
      "  1.18733571e-03  9.59642852e-04  8.87985939e-04  7.63108274e-04\n",
      "  6.52125824e-04  5.94714977e-04  5.91116566e-04  5.49010374e-04\n",
      "  4.65356504e-04  4.42350236e-04  4.07548100e-04  3.88073464e-04\n",
      "  2.84199076e-04  1.64864176e-04  1.45948753e-04  1.12072640e-04\n",
      "  1.04762933e-04  9.41954827e-05  8.11966384e-05  7.18174861e-05\n",
      "  6.54886062e-05  5.65430583e-05  4.65616884e-05  4.20208300e-05\n",
      "  3.94155165e-05  3.76220778e-05  3.53402813e-05  3.34774724e-05\n",
      "  3.12120978e-05  2.96070770e-05  2.96101530e-05  2.79173106e-05\n",
      "  2.71412333e-05  2.65228587e-05  2.50845018e-05  2.42438720e-05\n",
      "  2.38515094e-05  2.31908449e-05  2.23626800e-05  1.99592304e-05\n",
      "  1.75256773e-05  1.66171820e-05  1.36092756e-05  1.31602666e-05\n",
      "  1.24763702e-05  1.11355048e-05  1.06920427e-05  1.06910620e-05\n",
      "  1.00954973e-05  9.11345796e-06  9.87031574e-06  9.87112052e-06\n",
      "  5.90711664e-06  5.75796212e-06  5.03950938e-06  4.93536093e-06\n",
      "  4.15623776e-06  3.32775308e-06  1.68001343e-06  1.64520593e-06\n",
      "  2.54976033e-06  2.46773507e-06  2.46783170e-06  8.49236412e-07\n",
      "  8.22628256e-07  8.22613814e-07  2.33802221e-16 -1.21980173e-16\n",
      "  1.23083839e-17  2.39111752e-17]\n"
     ]
    }
   ],
   "source": [
    "print(\"Eigen values of the matrix is\",'\\n',eig_val)"
   ]
  },
  {
   "cell_type": "code",
   "execution_count": 56,
   "id": "4177ba0f",
   "metadata": {},
   "outputs": [
    {
     "name": "stdout",
     "output_type": "stream",
     "text": [
      "Eigen vectors of the matrix is \n",
      " [[ 7.05879485e-01  2.80255603e-02  7.18054544e-03 ... -6.90536565e-16\n",
      "   3.07933510e-16 -5.68223882e-16]\n",
      " [ 7.05756151e-01  7.53847968e-03  3.71384847e-02 ...  6.64662036e-16\n",
      "  -3.98151070e-16  3.37531532e-16]\n",
      " [ 2.36205196e-02 -9.50650465e-01 -5.76150586e-03 ... -5.72884641e-15\n",
      "  -1.96404221e-15  2.92308991e-16]\n",
      " ...\n",
      " [ 1.09992967e-05  1.47580012e-06  7.87798942e-05 ... -5.74996089e-05\n",
      "  -5.17124844e-02 -9.95800753e-02]\n",
      " [-1.40051666e-02  1.97793507e-02 -2.02176206e-02 ... -5.74996089e-05\n",
      "  -5.17124844e-02 -9.95800753e-02]\n",
      " [-1.03450934e-05  1.24523162e-05 -8.37329052e-06 ... -5.74996089e-05\n",
      "  -5.17124844e-02 -9.95800753e-02]]\n"
     ]
    }
   ],
   "source": [
    "print(\"Eigen vectors of the matrix is\",'\\n',eig_vec)"
   ]
  },
  {
   "cell_type": "code",
   "execution_count": 57,
   "id": "e0d37ec0",
   "metadata": {},
   "outputs": [],
   "source": [
    "total=sum(eig_val)"
   ]
  },
  {
   "cell_type": "code",
   "execution_count": 58,
   "id": "fb316092",
   "metadata": {},
   "outputs": [
    {
     "name": "stdout",
     "output_type": "stream",
     "text": [
      "[38.073822008717414, 21.431032412531163, 9.515261875207813, 4.8960011056247685, 3.237934723856294, 2.937004537235626, 2.2928353078282817, 2.0224952202868205, 1.8627905729121725, 1.5629098978772098, 1.4795915571340488, 1.429555532479225, 1.2937447882580235, 1.2082662508450066, 0.9675774898681242, 0.8701926030783785, 0.7641152821901099, 0.7174356965227705, 0.6741901140525692, 0.5288922835751177, 0.3814486251530369, 0.29591921200211474, 0.2559829925746295, 0.21306060140124164, 0.17810590731265633, 0.1469387019316286, 0.10063071831121972, 0.08211817741821187, 0.07548493919567915, 0.07115705024397614, 0.060555801402467344, 0.049563793074753865, 0.0453541973263834, 0.03470300188207592, 0.027599009958611826, 0.02485162773359583, 0.023121504735560985, 0.01868754271594668, 0.01729213647455343, 0.014860339378485845, 0.012699129850252237, 0.011581143452361234, 0.011511070027976958, 0.010691117828881425, 0.009062089630727271, 0.008614078576866477, 0.007936361441514259, 0.007557123389957266, 0.005534332243752366, 0.0032104718210728455, 0.0028421235623004026, 0.002182439273365097, 0.002040094159989871, 0.0018343096114384484, 0.0015811774616862138, 0.001398533148108832, 0.0012752881161903905, 0.0011010875717387453, 0.0009067160124074704, 0.0008182899022373554, 0.0007675554985119717, 0.0007326310861097348, 0.0006881966717444741, 0.0006519213823093863, 0.0006078067581688168, 0.000576611389773017, 0.0005765514888792778, 0.0005436459333038579, 0.0005285330433569213, 0.0005164911652281915, 0.0004884814146524089, 0.00047211146644350946, 0.00046447081905737724, 0.00045160541130249683, 0.00043547819537302103, 0.0003886747762797952, 0.0003412851381381772, 0.0003235936131521733, 0.0002650193437528766, 0.00025627559605577216, 0.00024295778353643132, 0.00021684652888181118, 0.00020821079807639104, 0.00020819170064076935, 0.0001965940097302974, 0.00019222462397001884, 0.00019220895216636173, 0.0001774703313855078, 0.00011503185196754543, 0.00011212730118693006, 9.813655843190517e-05, 9.610843034167589e-05, 8.093622599754716e-05, 6.480278333931294e-05, 4.965259202099223e-05, 4.805716017975193e-05, 4.805527846390974e-05, 3.271563226779445e-05, 3.203781069313033e-05, 1.653755008308713e-05, 1.6019397871877053e-05, 1.6019116638971865e-05, 4.552932357643918e-15, 4.656327162775099e-16, 2.3968651491502606e-16, -2.375372978620148e-15]\n"
     ]
    }
   ],
   "source": [
    "var_exp=[(i/total)*100 for i in sorted(eig_val,reverse=True)]\n",
    "print(var_exp)"
   ]
  },
  {
   "cell_type": "code",
   "execution_count": 59,
   "id": "1be8f846",
   "metadata": {},
   "outputs": [
    {
     "name": "stdout",
     "output_type": "stream",
     "text": [
      "[ 38.07382201  59.50485442  69.0201163   73.9161174   77.15405213\n",
      "  80.09105666  82.38389197  84.40638719  86.26917776  87.83208766\n",
      "  89.31167922  90.74123475  92.03497954  93.24324579  94.21082328\n",
      "  95.08101588  95.84513117  96.56256686  97.23675698  97.76564926\n",
      "  98.14709789  98.4430171   98.69900009  98.91206069  99.0901666\n",
      "  99.2371053   99.33773602  99.4198542   99.49533914  99.56649619\n",
      "  99.62705199  99.67661578  99.72196998  99.75667298  99.78427199\n",
      "  99.80912362  99.83224512  99.85093266  99.8682248   99.88308514\n",
      "  99.89578427  99.90736541  99.91887648  99.9295676   99.93862969\n",
      "  99.94724377  99.95518013  99.96273725  99.96827159  99.97148206\n",
      "  99.97432418  99.97650662  99.97854672  99.98038103  99.9819622\n",
      "  99.98336074  99.98463602  99.98573711  99.98664383  99.98746212\n",
      "  99.98822967  99.9889623   99.9896505   99.99030242  99.99091023\n",
      "  99.99148684  99.99206339  99.99260704  99.99313557  99.99365206\n",
      "  99.99414054  99.99461265  99.99507713  99.99552873  99.99596421\n",
      "  99.99635288  99.99669417  99.99701776  99.99728278  99.99753906\n",
      "  99.99778202  99.99799886  99.99820707  99.99841526  99.99861186\n",
      "  99.99880408  99.99899629  99.99917376  99.99928879  99.99940092\n",
      "  99.99949906  99.99959517  99.9996761   99.99974091  99.99979056\n",
      "  99.99983862  99.99988667  99.99991939  99.99995142  99.99996796\n",
      "  99.99998398 100.         100.         100.         100.\n",
      " 100.        ]\n"
     ]
    }
   ],
   "source": [
    "cum_var_exp=np.cumsum(var_exp)\n",
    "print(cum_var_exp)"
   ]
  },
  {
   "cell_type": "code",
   "execution_count": 60,
   "id": "ca16d576",
   "metadata": {},
   "outputs": [
    {
     "data": {
      "image/png": "[encoded data removed]",
      "text/plain": [
       "<Figure size 1296x576 with 1 Axes>"
      ]
     },
     "metadata": {},
     "output_type": "display_data"
    }
   ],
   "source": [
    "plt.bar(range(106),var_exp, align='center',color='pink',edgecolor='red',label='Indiviual Explained Varinace')\n",
    "plt.step(range(106),cum_var_exp,where='mid',color='green',label='Cummulative explained Variance')\n",
    "plt.legend(loc = 'best')\n",
    "plt.ylabel('Explained Variance Ratio')\n",
    "plt.xlabel('Principal Components')\n",
    "plt.tight_layout()\n",
    "plt.show()"
   ]
  },
  {
   "cell_type": "markdown",
   "id": "2d2e17ef",
   "metadata": {},
   "source": [
    "15 PCA components we should use so that we get 90-95% of the variance in data."
   ]
  },
  {
   "cell_type": "code",
   "execution_count": 61,
   "id": "9e3d75b3",
   "metadata": {},
   "outputs": [
    {
     "data": {
      "text/plain": [
       "array([[ 0.79883037,  0.60152027,  1.28262479, ...,  0.        ,\n",
       "         0.        ,  0.        ],\n",
       "       [ 0.79883037,  0.60152027,  1.28262479, ...,  0.        ,\n",
       "         0.        ,  0.        ],\n",
       "       [ 0.7990162 ,  0.60088122,  1.28262479, ...,  0.        ,\n",
       "         0.        ,  0.        ],\n",
       "       ...,\n",
       "       [-1.45676337, -1.39485304,  1.59045569, ...,  0.        ,\n",
       "         0.        ,  0.        ],\n",
       "       [-1.45676337, -1.39485304, -0.76958122, ...,  0.        ,\n",
       "         1.        ,  0.        ],\n",
       "       [-1.45676337, -1.39485304, -1.38524302, ...,  0.        ,\n",
       "         0.        ,  0.        ]])"
      ]
     },
     "execution_count": 61,
     "metadata": {},
     "output_type": "execute_result"
    }
   ],
   "source": [
    "X_scaled"
   ]
  },
  {
   "cell_type": "code",
   "execution_count": 62,
   "id": "87f3a602",
   "metadata": {},
   "outputs": [],
   "source": [
    "X_scaled1 = pd.DataFrame(X_scaled,columns=df.columns)"
   ]
  },
  {
   "cell_type": "code",
   "execution_count": 63,
   "id": "5ec86c0f",
   "metadata": {},
   "outputs": [
    {
     "data": {
      "text/html": [
       "<div>\n",
       "<style scoped>\n",
       "    .dataframe tbody tr th:only-of-type {\n",
       "        vertical-align: middle;\n",
       "    }\n",
       "\n",
       "    .dataframe tbody tr th {\n",
       "        vertical-align: top;\n",
       "    }\n",
       "\n",
       "    .dataframe thead th {\n",
       "        text-align: right;\n",
       "    }\n",
       "</style>\n",
       "<table border=\"1\" class=\"dataframe\">\n",
       "  <thead>\n",
       "    <tr style=\"text-align: right;\">\n",
       "      <th></th>\n",
       "      <th>longitude</th>\n",
       "      <th>latitude</th>\n",
       "      <th>age</th>\n",
       "      <th>F</th>\n",
       "      <th>M</th>\n",
       "      <th>F23-</th>\n",
       "      <th>F24-26</th>\n",
       "      <th>F27-28</th>\n",
       "      <th>F29-32</th>\n",
       "      <th>F33-42</th>\n",
       "      <th>...</th>\n",
       "      <th>酷比魔方</th>\n",
       "      <th>酷派</th>\n",
       "      <th>酷珀</th>\n",
       "      <th>金立</th>\n",
       "      <th>锤子</th>\n",
       "      <th>长虹</th>\n",
       "      <th>青橙</th>\n",
       "      <th>青葱</th>\n",
       "      <th>魅族</th>\n",
       "      <th>鲜米</th>\n",
       "    </tr>\n",
       "  </thead>\n",
       "  <tbody>\n",
       "    <tr>\n",
       "      <th>0</th>\n",
       "      <td>0.798830</td>\n",
       "      <td>0.601520</td>\n",
       "      <td>1.282625</td>\n",
       "      <td>0.0</td>\n",
       "      <td>1.0</td>\n",
       "      <td>0.0</td>\n",
       "      <td>0.0</td>\n",
       "      <td>0.0</td>\n",
       "      <td>0.0</td>\n",
       "      <td>0.0</td>\n",
       "      <td>...</td>\n",
       "      <td>0.0</td>\n",
       "      <td>0.0</td>\n",
       "      <td>0.0</td>\n",
       "      <td>0.0</td>\n",
       "      <td>0.0</td>\n",
       "      <td>0.0</td>\n",
       "      <td>0.0</td>\n",
       "      <td>0.0</td>\n",
       "      <td>0.0</td>\n",
       "      <td>0.0</td>\n",
       "    </tr>\n",
       "    <tr>\n",
       "      <th>1</th>\n",
       "      <td>0.798830</td>\n",
       "      <td>0.601520</td>\n",
       "      <td>1.282625</td>\n",
       "      <td>0.0</td>\n",
       "      <td>1.0</td>\n",
       "      <td>0.0</td>\n",
       "      <td>0.0</td>\n",
       "      <td>0.0</td>\n",
       "      <td>0.0</td>\n",
       "      <td>0.0</td>\n",
       "      <td>...</td>\n",
       "      <td>0.0</td>\n",
       "      <td>0.0</td>\n",
       "      <td>0.0</td>\n",
       "      <td>0.0</td>\n",
       "      <td>0.0</td>\n",
       "      <td>0.0</td>\n",
       "      <td>0.0</td>\n",
       "      <td>0.0</td>\n",
       "      <td>0.0</td>\n",
       "      <td>0.0</td>\n",
       "    </tr>\n",
       "    <tr>\n",
       "      <th>2</th>\n",
       "      <td>0.799016</td>\n",
       "      <td>0.600881</td>\n",
       "      <td>1.282625</td>\n",
       "      <td>0.0</td>\n",
       "      <td>1.0</td>\n",
       "      <td>0.0</td>\n",
       "      <td>0.0</td>\n",
       "      <td>0.0</td>\n",
       "      <td>0.0</td>\n",
       "      <td>0.0</td>\n",
       "      <td>...</td>\n",
       "      <td>0.0</td>\n",
       "      <td>0.0</td>\n",
       "      <td>0.0</td>\n",
       "      <td>0.0</td>\n",
       "      <td>0.0</td>\n",
       "      <td>0.0</td>\n",
       "      <td>0.0</td>\n",
       "      <td>0.0</td>\n",
       "      <td>0.0</td>\n",
       "      <td>0.0</td>\n",
       "    </tr>\n",
       "    <tr>\n",
       "      <th>3</th>\n",
       "      <td>0.798830</td>\n",
       "      <td>0.601520</td>\n",
       "      <td>1.282625</td>\n",
       "      <td>0.0</td>\n",
       "      <td>1.0</td>\n",
       "      <td>0.0</td>\n",
       "      <td>0.0</td>\n",
       "      <td>0.0</td>\n",
       "      <td>0.0</td>\n",
       "      <td>0.0</td>\n",
       "      <td>...</td>\n",
       "      <td>0.0</td>\n",
       "      <td>0.0</td>\n",
       "      <td>0.0</td>\n",
       "      <td>0.0</td>\n",
       "      <td>0.0</td>\n",
       "      <td>0.0</td>\n",
       "      <td>0.0</td>\n",
       "      <td>0.0</td>\n",
       "      <td>0.0</td>\n",
       "      <td>0.0</td>\n",
       "    </tr>\n",
       "    <tr>\n",
       "      <th>4</th>\n",
       "      <td>0.794742</td>\n",
       "      <td>0.586183</td>\n",
       "      <td>1.282625</td>\n",
       "      <td>0.0</td>\n",
       "      <td>1.0</td>\n",
       "      <td>0.0</td>\n",
       "      <td>0.0</td>\n",
       "      <td>0.0</td>\n",
       "      <td>0.0</td>\n",
       "      <td>0.0</td>\n",
       "      <td>...</td>\n",
       "      <td>0.0</td>\n",
       "      <td>0.0</td>\n",
       "      <td>0.0</td>\n",
       "      <td>0.0</td>\n",
       "      <td>0.0</td>\n",
       "      <td>0.0</td>\n",
       "      <td>0.0</td>\n",
       "      <td>0.0</td>\n",
       "      <td>0.0</td>\n",
       "      <td>0.0</td>\n",
       "    </tr>\n",
       "    <tr>\n",
       "      <th>...</th>\n",
       "      <td>...</td>\n",
       "      <td>...</td>\n",
       "      <td>...</td>\n",
       "      <td>...</td>\n",
       "      <td>...</td>\n",
       "      <td>...</td>\n",
       "      <td>...</td>\n",
       "      <td>...</td>\n",
       "      <td>...</td>\n",
       "      <td>...</td>\n",
       "      <td>...</td>\n",
       "      <td>...</td>\n",
       "      <td>...</td>\n",
       "      <td>...</td>\n",
       "      <td>...</td>\n",
       "      <td>...</td>\n",
       "      <td>...</td>\n",
       "      <td>...</td>\n",
       "      <td>...</td>\n",
       "      <td>...</td>\n",
       "      <td>...</td>\n",
       "    </tr>\n",
       "    <tr>\n",
       "      <th>1215611</th>\n",
       "      <td>-1.456763</td>\n",
       "      <td>-1.394853</td>\n",
       "      <td>-1.590464</td>\n",
       "      <td>0.0</td>\n",
       "      <td>1.0</td>\n",
       "      <td>0.0</td>\n",
       "      <td>0.0</td>\n",
       "      <td>0.0</td>\n",
       "      <td>0.0</td>\n",
       "      <td>0.0</td>\n",
       "      <td>...</td>\n",
       "      <td>0.0</td>\n",
       "      <td>0.0</td>\n",
       "      <td>0.0</td>\n",
       "      <td>0.0</td>\n",
       "      <td>0.0</td>\n",
       "      <td>0.0</td>\n",
       "      <td>0.0</td>\n",
       "      <td>0.0</td>\n",
       "      <td>0.0</td>\n",
       "      <td>0.0</td>\n",
       "    </tr>\n",
       "    <tr>\n",
       "      <th>1215612</th>\n",
       "      <td>-1.456763</td>\n",
       "      <td>-1.394853</td>\n",
       "      <td>-1.282633</td>\n",
       "      <td>0.0</td>\n",
       "      <td>1.0</td>\n",
       "      <td>0.0</td>\n",
       "      <td>0.0</td>\n",
       "      <td>0.0</td>\n",
       "      <td>0.0</td>\n",
       "      <td>0.0</td>\n",
       "      <td>...</td>\n",
       "      <td>0.0</td>\n",
       "      <td>0.0</td>\n",
       "      <td>0.0</td>\n",
       "      <td>0.0</td>\n",
       "      <td>0.0</td>\n",
       "      <td>0.0</td>\n",
       "      <td>0.0</td>\n",
       "      <td>0.0</td>\n",
       "      <td>0.0</td>\n",
       "      <td>0.0</td>\n",
       "    </tr>\n",
       "    <tr>\n",
       "      <th>1215613</th>\n",
       "      <td>-1.456763</td>\n",
       "      <td>-1.394853</td>\n",
       "      <td>1.590456</td>\n",
       "      <td>0.0</td>\n",
       "      <td>1.0</td>\n",
       "      <td>0.0</td>\n",
       "      <td>0.0</td>\n",
       "      <td>0.0</td>\n",
       "      <td>0.0</td>\n",
       "      <td>0.0</td>\n",
       "      <td>...</td>\n",
       "      <td>0.0</td>\n",
       "      <td>0.0</td>\n",
       "      <td>0.0</td>\n",
       "      <td>0.0</td>\n",
       "      <td>0.0</td>\n",
       "      <td>0.0</td>\n",
       "      <td>0.0</td>\n",
       "      <td>0.0</td>\n",
       "      <td>0.0</td>\n",
       "      <td>0.0</td>\n",
       "    </tr>\n",
       "    <tr>\n",
       "      <th>1215614</th>\n",
       "      <td>-1.456763</td>\n",
       "      <td>-1.394853</td>\n",
       "      <td>-0.769581</td>\n",
       "      <td>0.0</td>\n",
       "      <td>1.0</td>\n",
       "      <td>0.0</td>\n",
       "      <td>0.0</td>\n",
       "      <td>0.0</td>\n",
       "      <td>0.0</td>\n",
       "      <td>0.0</td>\n",
       "      <td>...</td>\n",
       "      <td>0.0</td>\n",
       "      <td>0.0</td>\n",
       "      <td>0.0</td>\n",
       "      <td>0.0</td>\n",
       "      <td>0.0</td>\n",
       "      <td>0.0</td>\n",
       "      <td>0.0</td>\n",
       "      <td>0.0</td>\n",
       "      <td>1.0</td>\n",
       "      <td>0.0</td>\n",
       "    </tr>\n",
       "    <tr>\n",
       "      <th>1215615</th>\n",
       "      <td>-1.456763</td>\n",
       "      <td>-1.394853</td>\n",
       "      <td>-1.385243</td>\n",
       "      <td>1.0</td>\n",
       "      <td>0.0</td>\n",
       "      <td>1.0</td>\n",
       "      <td>0.0</td>\n",
       "      <td>0.0</td>\n",
       "      <td>0.0</td>\n",
       "      <td>0.0</td>\n",
       "      <td>...</td>\n",
       "      <td>0.0</td>\n",
       "      <td>0.0</td>\n",
       "      <td>0.0</td>\n",
       "      <td>0.0</td>\n",
       "      <td>0.0</td>\n",
       "      <td>0.0</td>\n",
       "      <td>0.0</td>\n",
       "      <td>0.0</td>\n",
       "      <td>0.0</td>\n",
       "      <td>0.0</td>\n",
       "    </tr>\n",
       "  </tbody>\n",
       "</table>\n",
       "<p>1215616 rows × 106 columns</p>\n",
       "</div>"
      ],
      "text/plain": [
       "         longitude  latitude       age    F    M  F23-  F24-26  F27-28  \\\n",
       "0         0.798830  0.601520  1.282625  0.0  1.0   0.0     0.0     0.0   \n",
       "1         0.798830  0.601520  1.282625  0.0  1.0   0.0     0.0     0.0   \n",
       "2         0.799016  0.600881  1.282625  0.0  1.0   0.0     0.0     0.0   \n",
       "3         0.798830  0.601520  1.282625  0.0  1.0   0.0     0.0     0.0   \n",
       "4         0.794742  0.586183  1.282625  0.0  1.0   0.0     0.0     0.0   \n",
       "...            ...       ...       ...  ...  ...   ...     ...     ...   \n",
       "1215611  -1.456763 -1.394853 -1.590464  0.0  1.0   0.0     0.0     0.0   \n",
       "1215612  -1.456763 -1.394853 -1.282633  0.0  1.0   0.0     0.0     0.0   \n",
       "1215613  -1.456763 -1.394853  1.590456  0.0  1.0   0.0     0.0     0.0   \n",
       "1215614  -1.456763 -1.394853 -0.769581  0.0  1.0   0.0     0.0     0.0   \n",
       "1215615  -1.456763 -1.394853 -1.385243  1.0  0.0   1.0     0.0     0.0   \n",
       "\n",
       "         F29-32  F33-42  ...  酷比魔方   酷派   酷珀   金立   锤子   长虹   青橙   青葱   魅族  \\\n",
       "0           0.0     0.0  ...   0.0  0.0  0.0  0.0  0.0  0.0  0.0  0.0  0.0   \n",
       "1           0.0     0.0  ...   0.0  0.0  0.0  0.0  0.0  0.0  0.0  0.0  0.0   \n",
       "2           0.0     0.0  ...   0.0  0.0  0.0  0.0  0.0  0.0  0.0  0.0  0.0   \n",
       "3           0.0     0.0  ...   0.0  0.0  0.0  0.0  0.0  0.0  0.0  0.0  0.0   \n",
       "4           0.0     0.0  ...   0.0  0.0  0.0  0.0  0.0  0.0  0.0  0.0  0.0   \n",
       "...         ...     ...  ...   ...  ...  ...  ...  ...  ...  ...  ...  ...   \n",
       "1215611     0.0     0.0  ...   0.0  0.0  0.0  0.0  0.0  0.0  0.0  0.0  0.0   \n",
       "1215612     0.0     0.0  ...   0.0  0.0  0.0  0.0  0.0  0.0  0.0  0.0  0.0   \n",
       "1215613     0.0     0.0  ...   0.0  0.0  0.0  0.0  0.0  0.0  0.0  0.0  0.0   \n",
       "1215614     0.0     0.0  ...   0.0  0.0  0.0  0.0  0.0  0.0  0.0  0.0  1.0   \n",
       "1215615     0.0     0.0  ...   0.0  0.0  0.0  0.0  0.0  0.0  0.0  0.0  0.0   \n",
       "\n",
       "          鲜米  \n",
       "0        0.0  \n",
       "1        0.0  \n",
       "2        0.0  \n",
       "3        0.0  \n",
       "4        0.0  \n",
       "...      ...  \n",
       "1215611  0.0  \n",
       "1215612  0.0  \n",
       "1215613  0.0  \n",
       "1215614  0.0  \n",
       "1215615  0.0  \n",
       "\n",
       "[1215616 rows x 106 columns]"
      ]
     },
     "execution_count": 63,
     "metadata": {},
     "output_type": "execute_result"
    }
   ],
   "source": [
    "X_scaled1 "
   ]
  },
  {
   "cell_type": "markdown",
   "id": "6f983f31",
   "metadata": {},
   "source": [
    "## K-Means and Agglomerative Clustering "
   ]
  },
  {
   "cell_type": "code",
   "execution_count": 64,
   "id": "a1544f47",
   "metadata": {},
   "outputs": [],
   "source": [
    "from scipy import stats\n",
    "from sklearn.cluster import KMeans\n",
    "from scipy.stats import zscore\n",
    "from scipy.spatial import distance\n",
    "from scipy.cluster.hierarchy import linkage, dendrogram, fcluster\n",
    "from sklearn.cluster import AgglomerativeClustering"
   ]
  },
  {
   "cell_type": "code",
   "execution_count": 65,
   "id": "88b6fb0c",
   "metadata": {},
   "outputs": [],
   "source": [
    "X_scaled_min=X_scaled1.head(1000) #taking a sample of data set"
   ]
  },
  {
   "cell_type": "code",
   "execution_count": 66,
   "id": "d1d094f8",
   "metadata": {},
   "outputs": [
    {
     "data": {
      "text/html": [
       "<div>\n",
       "<style scoped>\n",
       "    .dataframe tbody tr th:only-of-type {\n",
       "        vertical-align: middle;\n",
       "    }\n",
       "\n",
       "    .dataframe tbody tr th {\n",
       "        vertical-align: top;\n",
       "    }\n",
       "\n",
       "    .dataframe thead th {\n",
       "        text-align: right;\n",
       "    }\n",
       "</style>\n",
       "<table border=\"1\" class=\"dataframe\">\n",
       "  <thead>\n",
       "    <tr style=\"text-align: right;\">\n",
       "      <th></th>\n",
       "      <th>num_clusters</th>\n",
       "      <th>cluster_errors</th>\n",
       "    </tr>\n",
       "  </thead>\n",
       "  <tbody>\n",
       "    <tr>\n",
       "      <th>0</th>\n",
       "      <td>1</td>\n",
       "      <td>3171.528302</td>\n",
       "    </tr>\n",
       "    <tr>\n",
       "      <th>1</th>\n",
       "      <td>2</td>\n",
       "      <td>1063.663143</td>\n",
       "    </tr>\n",
       "    <tr>\n",
       "      <th>2</th>\n",
       "      <td>3</td>\n",
       "      <td>514.525428</td>\n",
       "    </tr>\n",
       "    <tr>\n",
       "      <th>3</th>\n",
       "      <td>4</td>\n",
       "      <td>250.661169</td>\n",
       "    </tr>\n",
       "    <tr>\n",
       "      <th>4</th>\n",
       "      <td>5</td>\n",
       "      <td>29.528603</td>\n",
       "    </tr>\n",
       "    <tr>\n",
       "      <th>5</th>\n",
       "      <td>6</td>\n",
       "      <td>7.983341</td>\n",
       "    </tr>\n",
       "    <tr>\n",
       "      <th>6</th>\n",
       "      <td>7</td>\n",
       "      <td>0.008320</td>\n",
       "    </tr>\n",
       "    <tr>\n",
       "      <th>7</th>\n",
       "      <td>8</td>\n",
       "      <td>0.002265</td>\n",
       "    </tr>\n",
       "    <tr>\n",
       "      <th>8</th>\n",
       "      <td>9</td>\n",
       "      <td>0.000557</td>\n",
       "    </tr>\n",
       "    <tr>\n",
       "      <th>9</th>\n",
       "      <td>10</td>\n",
       "      <td>0.000316</td>\n",
       "    </tr>\n",
       "    <tr>\n",
       "      <th>10</th>\n",
       "      <td>11</td>\n",
       "      <td>0.000147</td>\n",
       "    </tr>\n",
       "    <tr>\n",
       "      <th>11</th>\n",
       "      <td>12</td>\n",
       "      <td>0.000116</td>\n",
       "    </tr>\n",
       "    <tr>\n",
       "      <th>12</th>\n",
       "      <td>13</td>\n",
       "      <td>0.000087</td>\n",
       "    </tr>\n",
       "    <tr>\n",
       "      <th>13</th>\n",
       "      <td>14</td>\n",
       "      <td>0.000060</td>\n",
       "    </tr>\n",
       "  </tbody>\n",
       "</table>\n",
       "</div>"
      ],
      "text/plain": [
       "    num_clusters  cluster_errors\n",
       "0              1     3171.528302\n",
       "1              2     1063.663143\n",
       "2              3      514.525428\n",
       "3              4      250.661169\n",
       "4              5       29.528603\n",
       "5              6        7.983341\n",
       "6              7        0.008320\n",
       "7              8        0.002265\n",
       "8              9        0.000557\n",
       "9             10        0.000316\n",
       "10            11        0.000147\n",
       "11            12        0.000116\n",
       "12            13        0.000087\n",
       "13            14        0.000060"
      ]
     },
     "execution_count": 66,
     "metadata": {},
     "output_type": "execute_result"
    }
   ],
   "source": [
    "cluster_range = range(1,15)\n",
    "error=[]\n",
    "\n",
    "for i in cluster_range:\n",
    "    clusters = KMeans(i, n_init=10)\n",
    "    clusters.fit(X_scaled_min)\n",
    "    labels=clusters.labels_\n",
    "    centroids=clusters.cluster_centers_\n",
    "    error.append(clusters.inertia_)\n",
    "    \n",
    "clusters_df = pd.DataFrame({'num_clusters':cluster_range,'cluster_errors':error})\n",
    "clusters_df"
   ]
  },
  {
   "cell_type": "code",
   "execution_count": 67,
   "id": "932369d0",
   "metadata": {},
   "outputs": [
    {
     "data": {
      "image/png": "[encoded data removed]",
      "text/plain": [
       "<Figure size 1296x576 with 1 Axes>"
      ]
     },
     "metadata": {},
     "output_type": "display_data"
    }
   ],
   "source": [
    "plt.plot(clusters_df['num_clusters'],clusters_df['cluster_errors'],marker='o')\n",
    "plt.title('The Elbow Method')\n",
    "plt.xlabel('Number of clusters')\n",
    "plt.ylabel('error')\n",
    "plt.show()"
   ]
  },
  {
   "cell_type": "code",
   "execution_count": 68,
   "id": "21d4f8ef",
   "metadata": {},
   "outputs": [
    {
     "data": {
      "text/plain": [
       "KMeans(n_clusters=3, n_init=15, random_state=42)"
      ]
     },
     "execution_count": 68,
     "metadata": {},
     "output_type": "execute_result"
    }
   ],
   "source": [
    "kmeans=KMeans(n_clusters=3,n_init=15,random_state=42)\n",
    "kmeans.fit(X_scaled_min)"
   ]
  },
  {
   "cell_type": "code",
   "execution_count": 69,
   "id": "83df8033",
   "metadata": {},
   "outputs": [
    {
     "data": {
      "text/html": [
       "<div>\n",
       "<style scoped>\n",
       "    .dataframe tbody tr th:only-of-type {\n",
       "        vertical-align: middle;\n",
       "    }\n",
       "\n",
       "    .dataframe tbody tr th {\n",
       "        vertical-align: top;\n",
       "    }\n",
       "\n",
       "    .dataframe thead th {\n",
       "        text-align: right;\n",
       "    }\n",
       "</style>\n",
       "<table border=\"1\" class=\"dataframe\">\n",
       "  <thead>\n",
       "    <tr style=\"text-align: right;\">\n",
       "      <th></th>\n",
       "      <th>Labels</th>\n",
       "    </tr>\n",
       "  </thead>\n",
       "  <tbody>\n",
       "    <tr>\n",
       "      <th>0</th>\n",
       "      <td>0</td>\n",
       "    </tr>\n",
       "    <tr>\n",
       "      <th>1</th>\n",
       "      <td>0</td>\n",
       "    </tr>\n",
       "    <tr>\n",
       "      <th>2</th>\n",
       "      <td>0</td>\n",
       "    </tr>\n",
       "    <tr>\n",
       "      <th>3</th>\n",
       "      <td>0</td>\n",
       "    </tr>\n",
       "    <tr>\n",
       "      <th>4</th>\n",
       "      <td>0</td>\n",
       "    </tr>\n",
       "    <tr>\n",
       "      <th>...</th>\n",
       "      <td>...</td>\n",
       "    </tr>\n",
       "    <tr>\n",
       "      <th>995</th>\n",
       "      <td>1</td>\n",
       "    </tr>\n",
       "    <tr>\n",
       "      <th>996</th>\n",
       "      <td>1</td>\n",
       "    </tr>\n",
       "    <tr>\n",
       "      <th>997</th>\n",
       "      <td>1</td>\n",
       "    </tr>\n",
       "    <tr>\n",
       "      <th>998</th>\n",
       "      <td>1</td>\n",
       "    </tr>\n",
       "    <tr>\n",
       "      <th>999</th>\n",
       "      <td>1</td>\n",
       "    </tr>\n",
       "  </tbody>\n",
       "</table>\n",
       "<p>1000 rows × 1 columns</p>\n",
       "</div>"
      ],
      "text/plain": [
       "     Labels\n",
       "0         0\n",
       "1         0\n",
       "2         0\n",
       "3         0\n",
       "4         0\n",
       "..      ...\n",
       "995       1\n",
       "996       1\n",
       "997       1\n",
       "998       1\n",
       "999       1\n",
       "\n",
       "[1000 rows x 1 columns]"
      ]
     },
     "execution_count": 69,
     "metadata": {},
     "output_type": "execute_result"
    }
   ],
   "source": [
    "df_labels=pd.DataFrame(kmeans.labels_,columns=['Labels'])\n",
    "df_labels"
   ]
  },
  {
   "cell_type": "code",
   "execution_count": 70,
   "id": "5b8f3b45",
   "metadata": {},
   "outputs": [
    {
     "data": {
      "text/plain": [
       "Labels\n",
       "1         496\n",
       "0         430\n",
       "2          74\n",
       "dtype: int64"
      ]
     },
     "execution_count": 70,
     "metadata": {},
     "output_type": "execute_result"
    }
   ],
   "source": [
    "df_labels.value_counts()"
   ]
  },
  {
   "cell_type": "code",
   "execution_count": 71,
   "id": "d2616b23",
   "metadata": {},
   "outputs": [
    {
     "data": {
      "text/html": [
       "<div>\n",
       "<style scoped>\n",
       "    .dataframe tbody tr th:only-of-type {\n",
       "        vertical-align: middle;\n",
       "    }\n",
       "\n",
       "    .dataframe tbody tr th {\n",
       "        vertical-align: top;\n",
       "    }\n",
       "\n",
       "    .dataframe thead th {\n",
       "        text-align: right;\n",
       "    }\n",
       "</style>\n",
       "<table border=\"1\" class=\"dataframe\">\n",
       "  <thead>\n",
       "    <tr style=\"text-align: right;\">\n",
       "      <th></th>\n",
       "      <th>longitude</th>\n",
       "      <th>latitude</th>\n",
       "      <th>age</th>\n",
       "      <th>F</th>\n",
       "      <th>M</th>\n",
       "      <th>F23-</th>\n",
       "      <th>F24-26</th>\n",
       "      <th>F27-28</th>\n",
       "      <th>F29-32</th>\n",
       "      <th>F33-42</th>\n",
       "      <th>...</th>\n",
       "      <th>酷派</th>\n",
       "      <th>酷珀</th>\n",
       "      <th>金立</th>\n",
       "      <th>锤子</th>\n",
       "      <th>长虹</th>\n",
       "      <th>青橙</th>\n",
       "      <th>青葱</th>\n",
       "      <th>魅族</th>\n",
       "      <th>鲜米</th>\n",
       "      <th>Labels</th>\n",
       "    </tr>\n",
       "  </thead>\n",
       "  <tbody>\n",
       "    <tr>\n",
       "      <th>0</th>\n",
       "      <td>121.38</td>\n",
       "      <td>31.24</td>\n",
       "      <td>46</td>\n",
       "      <td>0</td>\n",
       "      <td>1</td>\n",
       "      <td>0</td>\n",
       "      <td>0</td>\n",
       "      <td>0</td>\n",
       "      <td>0</td>\n",
       "      <td>0</td>\n",
       "      <td>...</td>\n",
       "      <td>0</td>\n",
       "      <td>0</td>\n",
       "      <td>0</td>\n",
       "      <td>0</td>\n",
       "      <td>0</td>\n",
       "      <td>0</td>\n",
       "      <td>0</td>\n",
       "      <td>0</td>\n",
       "      <td>0</td>\n",
       "      <td>0</td>\n",
       "    </tr>\n",
       "    <tr>\n",
       "      <th>1</th>\n",
       "      <td>121.38</td>\n",
       "      <td>31.24</td>\n",
       "      <td>46</td>\n",
       "      <td>0</td>\n",
       "      <td>1</td>\n",
       "      <td>0</td>\n",
       "      <td>0</td>\n",
       "      <td>0</td>\n",
       "      <td>0</td>\n",
       "      <td>0</td>\n",
       "      <td>...</td>\n",
       "      <td>0</td>\n",
       "      <td>0</td>\n",
       "      <td>0</td>\n",
       "      <td>0</td>\n",
       "      <td>0</td>\n",
       "      <td>0</td>\n",
       "      <td>0</td>\n",
       "      <td>0</td>\n",
       "      <td>0</td>\n",
       "      <td>0</td>\n",
       "    </tr>\n",
       "    <tr>\n",
       "      <th>2</th>\n",
       "      <td>121.39</td>\n",
       "      <td>31.23</td>\n",
       "      <td>46</td>\n",
       "      <td>0</td>\n",
       "      <td>1</td>\n",
       "      <td>0</td>\n",
       "      <td>0</td>\n",
       "      <td>0</td>\n",
       "      <td>0</td>\n",
       "      <td>0</td>\n",
       "      <td>...</td>\n",
       "      <td>0</td>\n",
       "      <td>0</td>\n",
       "      <td>0</td>\n",
       "      <td>0</td>\n",
       "      <td>0</td>\n",
       "      <td>0</td>\n",
       "      <td>0</td>\n",
       "      <td>0</td>\n",
       "      <td>0</td>\n",
       "      <td>0</td>\n",
       "    </tr>\n",
       "  </tbody>\n",
       "</table>\n",
       "<p>3 rows × 107 columns</p>\n",
       "</div>"
      ],
      "text/plain": [
       "   longitude  latitude  age  F  M  F23-  F24-26  F27-28  F29-32  F33-42  ...  \\\n",
       "0     121.38     31.24   46  0  1     0       0       0       0       0  ...   \n",
       "1     121.38     31.24   46  0  1     0       0       0       0       0  ...   \n",
       "2     121.39     31.23   46  0  1     0       0       0       0       0  ...   \n",
       "\n",
       "   酷派  酷珀  金立  锤子  长虹  青橙  青葱  魅族  鲜米  Labels  \n",
       "0   0   0   0   0   0   0   0   0   0       0  \n",
       "1   0   0   0   0   0   0   0   0   0       0  \n",
       "2   0   0   0   0   0   0   0   0   0       0  \n",
       "\n",
       "[3 rows x 107 columns]"
      ]
     },
     "execution_count": 71,
     "metadata": {},
     "output_type": "execute_result"
    }
   ],
   "source": [
    "df_kmeans=dfc.join(df_labels)\n",
    "df_kmeans.head(3)"
   ]
  },
  {
   "cell_type": "code",
   "execution_count": 72,
   "id": "d3cfa2dc",
   "metadata": {},
   "outputs": [],
   "source": [
    "from sklearn.metrics import silhouette_score"
   ]
  },
  {
   "cell_type": "code",
   "execution_count": 73,
   "id": "d15a3a4c",
   "metadata": {},
   "outputs": [
    {
     "name": "stdout",
     "output_type": "stream",
     "text": [
      "2 0.4966829896702277\n",
      "3 0.5459593009602282\n",
      "4 0.5985512871865102\n",
      "5 0.6281706963152738\n",
      "6 0.7163603330133519\n",
      "7 0.747026508652764\n",
      "8 0.795038826369378\n",
      "9 0.8380792634173767\n",
      "10 0.8533625340251341\n",
      "11 0.8788232555972927\n",
      "12 0.9247523500959945\n",
      "13 0.9394635581235169\n",
      "14 0.9650015927561723\n"
     ]
    }
   ],
   "source": [
    "for i in range(2,15):\n",
    "    kmeans = KMeans(n_clusters=i)\n",
    "    kmeans = kmeans.fit(X_scaled1.head(3000))\n",
    "    labels = kmeans.predict(X_scaled1.head(3000))\n",
    "    print(i,silhouette_score(X_scaled1.head(3000),labels))"
   ]
  },
  {
   "cell_type": "code",
   "execution_count": 74,
   "id": "3d69e0ae",
   "metadata": {},
   "outputs": [
    {
     "data": {
      "image/png": "[encoded data removed]",
      "text/plain": [
       "<Figure size 1296x576 with 1 Axes>"
      ]
     },
     "metadata": {},
     "output_type": "display_data"
    }
   ],
   "source": [
    "merg=linkage(X_scaled_min,method='ward')\n",
    "dendrogram(merg, leaf_rotation=90,)\n",
    "plt.xlabel('Datapoints')\n",
    "plt.ylabel('Euclidean distance')\n",
    "plt.show()"
   ]
  },
  {
   "cell_type": "code",
   "execution_count": 75,
   "id": "3f9ce749",
   "metadata": {},
   "outputs": [],
   "source": [
    "hie_cluster = AgglomerativeClustering(n_clusters=2, affinity='euclidean',\n",
    "                                     linkage='ward')\n",
    "\n",
    "hie_cluster_model = hie_cluster.fit(X_scaled_min)"
   ]
  },
  {
   "cell_type": "code",
   "execution_count": 76,
   "id": "f47a914e",
   "metadata": {},
   "outputs": [
    {
     "data": {
      "text/html": [
       "<div>\n",
       "<style scoped>\n",
       "    .dataframe tbody tr th:only-of-type {\n",
       "        vertical-align: middle;\n",
       "    }\n",
       "\n",
       "    .dataframe tbody tr th {\n",
       "        vertical-align: top;\n",
       "    }\n",
       "\n",
       "    .dataframe thead th {\n",
       "        text-align: right;\n",
       "    }\n",
       "</style>\n",
       "<table border=\"1\" class=\"dataframe\">\n",
       "  <thead>\n",
       "    <tr style=\"text-align: right;\">\n",
       "      <th></th>\n",
       "      <th>Labels</th>\n",
       "    </tr>\n",
       "  </thead>\n",
       "  <tbody>\n",
       "    <tr>\n",
       "      <th>0</th>\n",
       "      <td>0</td>\n",
       "    </tr>\n",
       "    <tr>\n",
       "      <th>1</th>\n",
       "      <td>0</td>\n",
       "    </tr>\n",
       "  </tbody>\n",
       "</table>\n",
       "</div>"
      ],
      "text/plain": [
       "   Labels\n",
       "0       0\n",
       "1       0"
      ]
     },
     "execution_count": 76,
     "metadata": {},
     "output_type": "execute_result"
    }
   ],
   "source": [
    "df_label1 = pd.DataFrame(hie_cluster_model.labels_,columns=['Labels'])\n",
    "df_label1.head(2)"
   ]
  },
  {
   "cell_type": "code",
   "execution_count": 77,
   "id": "df4d6fc0",
   "metadata": {},
   "outputs": [
    {
     "data": {
      "text/plain": [
       "(1000, 1)"
      ]
     },
     "execution_count": 77,
     "metadata": {},
     "output_type": "execute_result"
    }
   ],
   "source": [
    "df_label1.shape"
   ]
  },
  {
   "cell_type": "code",
   "execution_count": 78,
   "id": "49c96f53",
   "metadata": {},
   "outputs": [
    {
     "data": {
      "text/html": [
       "<div>\n",
       "<style scoped>\n",
       "    .dataframe tbody tr th:only-of-type {\n",
       "        vertical-align: middle;\n",
       "    }\n",
       "\n",
       "    .dataframe tbody tr th {\n",
       "        vertical-align: top;\n",
       "    }\n",
       "\n",
       "    .dataframe thead th {\n",
       "        text-align: right;\n",
       "    }\n",
       "</style>\n",
       "<table border=\"1\" class=\"dataframe\">\n",
       "  <thead>\n",
       "    <tr style=\"text-align: right;\">\n",
       "      <th></th>\n",
       "      <th>longitude</th>\n",
       "      <th>latitude</th>\n",
       "      <th>age</th>\n",
       "      <th>F</th>\n",
       "      <th>M</th>\n",
       "      <th>F23-</th>\n",
       "      <th>F24-26</th>\n",
       "      <th>F27-28</th>\n",
       "      <th>F29-32</th>\n",
       "      <th>F33-42</th>\n",
       "      <th>...</th>\n",
       "      <th>酷派</th>\n",
       "      <th>酷珀</th>\n",
       "      <th>金立</th>\n",
       "      <th>锤子</th>\n",
       "      <th>长虹</th>\n",
       "      <th>青橙</th>\n",
       "      <th>青葱</th>\n",
       "      <th>魅族</th>\n",
       "      <th>鲜米</th>\n",
       "      <th>Labels</th>\n",
       "    </tr>\n",
       "  </thead>\n",
       "  <tbody>\n",
       "    <tr>\n",
       "      <th>0</th>\n",
       "      <td>121.38</td>\n",
       "      <td>31.24</td>\n",
       "      <td>46</td>\n",
       "      <td>0</td>\n",
       "      <td>1</td>\n",
       "      <td>0</td>\n",
       "      <td>0</td>\n",
       "      <td>0</td>\n",
       "      <td>0</td>\n",
       "      <td>0</td>\n",
       "      <td>...</td>\n",
       "      <td>0</td>\n",
       "      <td>0</td>\n",
       "      <td>0</td>\n",
       "      <td>0</td>\n",
       "      <td>0</td>\n",
       "      <td>0</td>\n",
       "      <td>0</td>\n",
       "      <td>0</td>\n",
       "      <td>0</td>\n",
       "      <td>0</td>\n",
       "    </tr>\n",
       "    <tr>\n",
       "      <th>1</th>\n",
       "      <td>121.38</td>\n",
       "      <td>31.24</td>\n",
       "      <td>46</td>\n",
       "      <td>0</td>\n",
       "      <td>1</td>\n",
       "      <td>0</td>\n",
       "      <td>0</td>\n",
       "      <td>0</td>\n",
       "      <td>0</td>\n",
       "      <td>0</td>\n",
       "      <td>...</td>\n",
       "      <td>0</td>\n",
       "      <td>0</td>\n",
       "      <td>0</td>\n",
       "      <td>0</td>\n",
       "      <td>0</td>\n",
       "      <td>0</td>\n",
       "      <td>0</td>\n",
       "      <td>0</td>\n",
       "      <td>0</td>\n",
       "      <td>0</td>\n",
       "    </tr>\n",
       "    <tr>\n",
       "      <th>2</th>\n",
       "      <td>121.39</td>\n",
       "      <td>31.23</td>\n",
       "      <td>46</td>\n",
       "      <td>0</td>\n",
       "      <td>1</td>\n",
       "      <td>0</td>\n",
       "      <td>0</td>\n",
       "      <td>0</td>\n",
       "      <td>0</td>\n",
       "      <td>0</td>\n",
       "      <td>...</td>\n",
       "      <td>0</td>\n",
       "      <td>0</td>\n",
       "      <td>0</td>\n",
       "      <td>0</td>\n",
       "      <td>0</td>\n",
       "      <td>0</td>\n",
       "      <td>0</td>\n",
       "      <td>0</td>\n",
       "      <td>0</td>\n",
       "      <td>0</td>\n",
       "    </tr>\n",
       "  </tbody>\n",
       "</table>\n",
       "<p>3 rows × 107 columns</p>\n",
       "</div>"
      ],
      "text/plain": [
       "   longitude  latitude  age  F  M  F23-  F24-26  F27-28  F29-32  F33-42  ...  \\\n",
       "0     121.38     31.24   46  0  1     0       0       0       0       0  ...   \n",
       "1     121.38     31.24   46  0  1     0       0       0       0       0  ...   \n",
       "2     121.39     31.23   46  0  1     0       0       0       0       0  ...   \n",
       "\n",
       "   酷派  酷珀  金立  锤子  长虹  青橙  青葱  魅族  鲜米  Labels  \n",
       "0   0   0   0   0   0   0   0   0   0       0  \n",
       "1   0   0   0   0   0   0   0   0   0       0  \n",
       "2   0   0   0   0   0   0   0   0   0       0  \n",
       "\n",
       "[3 rows x 107 columns]"
      ]
     },
     "execution_count": 78,
     "metadata": {},
     "output_type": "execute_result"
    }
   ],
   "source": [
    "\n",
    "df_hier = dfc.join(df_label1)\n",
    "df_hier.head(3)"
   ]
  },
  {
   "cell_type": "code",
   "execution_count": 80,
   "id": "98848d52",
   "metadata": {},
   "outputs": [
    {
     "name": "stdout",
     "output_type": "stream",
     "text": [
      "2 0.7312089828674456\n",
      "3 0.8088630936470297\n",
      "4 0.8727514607571897\n",
      "5 0.9861196379969017\n",
      "6 0.9968212364987353\n",
      "7 0.9978772371738814\n",
      "8 0.9922642701923289\n",
      "9 0.9900736086051609\n",
      "10 0.8966314846724945\n",
      "11 0.8942214888984514\n",
      "12 0.8888782556828722\n",
      "13 0.8896298729069487\n",
      "14 0.8984352681582269\n"
     ]
    }
   ],
   "source": [
    "for i in range(2,15):\n",
    "    hier = AgglomerativeClustering(n_clusters=i)\n",
    "    hier = hier.fit(X_scaled_min)\n",
    "    labels = hier.fit_predict(X_scaled_min)\n",
    "    print(i,silhouette_score(X_scaled_min,labels))"
   ]
  },
  {
   "cell_type": "markdown",
   "id": "0a8a3b56",
   "metadata": {},
   "source": [
    "From above, we can observe that the silhouette score is high for 5  and 6 clusters"
   ]
  },
  {
   "cell_type": "code",
   "execution_count": 81,
   "id": "72d673c6",
   "metadata": {},
   "outputs": [
    {
     "data": {
      "image/png": "[encoded data removed]",
      "text/plain": [
       "<Figure size 1296x576 with 1 Axes>"
      ]
     },
     "metadata": {},
     "output_type": "display_data"
    },
    {
     "data": {
      "image/png": "[encoded data removed]",
      "text/plain": [
       "<Figure size 1296x576 with 1 Axes>"
      ]
     },
     "metadata": {},
     "output_type": "display_data"
    }
   ],
   "source": [
    "plt.title('K-Means Classes')\n",
    "sns.scatterplot(x='longitude',y='latitude',hue='Labels',data=df_kmeans,palette='bright')\n",
    "plt.show()\n",
    "\n",
    "plt.title('Hierarchical Classes')\n",
    "sns.scatterplot(x='longitude',y='latitude',hue='Labels',data=df_hier,palette='bright')\n",
    "plt.show()"
   ]
  }
 ],
 "metadata": {
  "kernelspec": {
   "display_name": "Python 3 (ipykernel)",
   "language": "python",
   "name": "python3"
  },
  "language_info": {
   "codemirror_mode": {
    "name": "ipython",
    "version": 3
   },
   "file_extension": ".py",
   "mimetype": "text/x-python",
   "name": "python",
   "nbconvert_exporter": "python",
   "pygments_lexer": "ipython3",
   "version": "3.9.12"
  }
 },
 "nbformat": 4,
 "nbformat_minor": 5
}
